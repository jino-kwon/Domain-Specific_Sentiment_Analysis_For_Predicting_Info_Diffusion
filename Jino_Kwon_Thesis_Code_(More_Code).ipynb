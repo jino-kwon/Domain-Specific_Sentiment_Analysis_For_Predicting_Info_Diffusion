{
  "nbformat": 4,
  "nbformat_minor": 0,
  "metadata": {
    "colab": {
      "name": "Jino_Kwon_Thesis_Code (More Code).ipynb",
      "provenance": [],
      "collapsed_sections": [],
      "authorship_tag": "ABX9TyP/u8xGF+jFTiXKqadBfz2f",
      "include_colab_link": true
    },
    "kernelspec": {
      "name": "python3",
      "display_name": "Python 3"
    }
  },
  "cells": [
    {
      "cell_type": "markdown",
      "metadata": {
        "id": "view-in-github",
        "colab_type": "text"
      },
      "source": [
        "<a href=\"https://colab.research.google.com/github/jinokwon/Predicting_Retweet_Rates/blob/master/Jino_Kwon_Thesis_Code_(More_Code).ipynb\" target=\"_parent\"><img src=\"https://colab.research.google.com/assets/colab-badge.svg\" alt=\"Open In Colab\"/></a>"
      ]
    },
    {
      "cell_type": "markdown",
      "metadata": {
        "id": "1lHANFb1ISE3"
      },
      "source": [
        "# Load Data"
      ]
    },
    {
      "cell_type": "code",
      "metadata": {
        "id": "IxL9_rYopLQv"
      },
      "source": [
        "#Activating Google Drive\r\n",
        "\r\n",
        "from pydrive.auth import GoogleAuth\r\n",
        "from pydrive.drive import GoogleDrive\r\n",
        "from google.colab import auth\r\n",
        "from oauth2client.client import GoogleCredentials\r\n",
        "\r\n",
        "auth.authenticate_user()\r\n",
        "gauth = GoogleAuth()\r\n",
        "gauth.credentials = GoogleCredentials.get_application_default()\r\n",
        "drive = GoogleDrive(gauth)\r\n",
        "\r\n",
        "import plotly.graph_objs as go"
      ],
      "execution_count": null,
      "outputs": []
    },
    {
      "cell_type": "code",
      "metadata": {
        "colab": {
          "base_uri": "https://localhost:8080/"
        },
        "id": "MEmJyklxpOSm",
        "outputId": "0832c6fe-5281-4854-adf7-8c36acc38826"
      },
      "source": [
        "###Google Drive\r\n",
        "import nltk\r\n",
        "nltk.download('wordnet')\r\n",
        "nltk.download('punkt')"
      ],
      "execution_count": null,
      "outputs": [
        {
          "output_type": "stream",
          "text": [
            "[nltk_data] Downloading package wordnet to /root/nltk_data...\n",
            "[nltk_data]   Unzipping corpora/wordnet.zip.\n",
            "[nltk_data] Downloading package punkt to /root/nltk_data...\n",
            "[nltk_data]   Unzipping tokenizers/punkt.zip.\n"
          ],
          "name": "stdout"
        },
        {
          "output_type": "execute_result",
          "data": {
            "text/plain": [
              "True"
            ]
          },
          "metadata": {
            "tags": []
          },
          "execution_count": 3
        }
      ]
    },
    {
      "cell_type": "code",
      "metadata": {
        "colab": {
          "base_uri": "https://localhost:8080/"
        },
        "id": "QnJq2DmfpQNO",
        "outputId": "e5eef160-7fd9-4b7a-88ad-eb7dd5fc2eb7"
      },
      "source": [
        "from google.colab import drive\r\n",
        "drive.mount('/content/drive', force_remount=True)"
      ],
      "execution_count": null,
      "outputs": [
        {
          "output_type": "stream",
          "text": [
            "Mounted at /content/drive\n"
          ],
          "name": "stdout"
        }
      ]
    },
    {
      "cell_type": "code",
      "metadata": {
        "colab": {
          "base_uri": "https://localhost:8080/"
        },
        "id": "KRtvNyTmog9I",
        "outputId": "92545d34-fdbe-4091-a55d-97c42c236fac"
      },
      "source": [
        "%matplotlib inline\r\n",
        "import pandas as pd\r\n",
        "import numpy as np\r\n",
        "import re\r\n",
        "from numpy import inf\r\n",
        "\r\n",
        "from nltk.tokenize import word_tokenize\r\n",
        "from nltk.collocations import *\r\n",
        "from nltk import FreqDist\r\n",
        "lemmatizer = nltk.stem.WordNetLemmatizer()\r\n",
        "nltk.download('stopwords')\r\n",
        "from nltk.corpus import stopwords \r\n",
        "from nltk.stem import PorterStemmer"
      ],
      "execution_count": null,
      "outputs": [
        {
          "output_type": "stream",
          "text": [
            "[nltk_data] Downloading package stopwords to /root/nltk_data...\n",
            "[nltk_data]   Unzipping corpora/stopwords.zip.\n"
          ],
          "name": "stdout"
        }
      ]
    },
    {
      "cell_type": "code",
      "metadata": {
        "id": "wxn6xdTUppKA",
        "colab": {
          "base_uri": "https://localhost:8080/"
        },
        "outputId": "a647c8bd-1b5e-46a4-a77f-d21756a2bcfe"
      },
      "source": [
        "# Senator raw Tweeter data\r\n",
        "df = pd.read_csv(\"/content/drive/My Drive/Colab Notebooks/thesis/senator_all.csv\")\r\n",
        "print(df[(df['retweet_count'] == 0)].count)\r\n",
        "df.head()"
      ],
      "execution_count": null,
      "outputs": [
        {
          "output_type": "stream",
          "text": [
            "<bound method DataFrame.count of        rowname     elite_new  ... shared_negCount shared_posCount\n",
            "426      427.0  amyklobuchar  ...               0               0\n",
            "1512    1513.0   BillCassidy  ...               0               0\n",
            "1516    1517.0   BillCassidy  ...               0               0\n",
            "1519    1520.0   BillCassidy  ...               0               0\n",
            "1530    1531.0   BillCassidy  ...               0               0\n",
            "...        ...           ...  ...             ...             ...\n",
            "98513  91984.0    ThomTillis  ...               0               0\n",
            "99530  93001.0      timkaine  ...               1               0\n",
            "99574  93045.0      timkaine  ...               0               0\n",
            "99625  93096.0      timkaine  ...               0               0\n",
            "99636  93107.0      timkaine  ...               1               0\n",
            "\n",
            "[7443 rows x 21 columns]>\n"
          ],
          "name": "stdout"
        },
        {
          "output_type": "execute_result",
          "data": {
            "text/html": [
              "<div>\n",
              "<style scoped>\n",
              "    .dataframe tbody tr th:only-of-type {\n",
              "        vertical-align: middle;\n",
              "    }\n",
              "\n",
              "    .dataframe tbody tr th {\n",
              "        vertical-align: top;\n",
              "    }\n",
              "\n",
              "    .dataframe thead th {\n",
              "        text-align: right;\n",
              "    }\n",
              "</style>\n",
              "<table border=\"1\" class=\"dataframe\">\n",
              "  <thead>\n",
              "    <tr style=\"text-align: right;\">\n",
              "      <th></th>\n",
              "      <th>rowname</th>\n",
              "      <th>elite_new</th>\n",
              "      <th>created_at</th>\n",
              "      <th>text</th>\n",
              "      <th>retweet_count</th>\n",
              "      <th>favorite_count</th>\n",
              "      <th>url</th>\n",
              "      <th>media</th>\n",
              "      <th>followers</th>\n",
              "      <th>elite_idx</th>\n",
              "      <th>dwscore.y</th>\n",
              "      <th>dw_extr</th>\n",
              "      <th>dwextr_rs</th>\n",
              "      <th>genderfx</th>\n",
              "      <th>AffectCount</th>\n",
              "      <th>MoralCount</th>\n",
              "      <th>shared</th>\n",
              "      <th>neg_uniqueCount</th>\n",
              "      <th>pos_uniqueCount</th>\n",
              "      <th>shared_negCount</th>\n",
              "      <th>shared_posCount</th>\n",
              "    </tr>\n",
              "  </thead>\n",
              "  <tbody>\n",
              "    <tr>\n",
              "      <th>0</th>\n",
              "      <td>1.0</td>\n",
              "      <td>alfranken</td>\n",
              "      <td>10/7/2016 23:56</td>\n",
              "      <td>I'll be sitting down w/ @billmaher on @RealTim...</td>\n",
              "      <td>268</td>\n",
              "      <td>1202</td>\n",
              "      <td>-0.5</td>\n",
              "      <td>-0.5</td>\n",
              "      <td>264601.0</td>\n",
              "      <td>1</td>\n",
              "      <td>-0.405</td>\n",
              "      <td>0.405</td>\n",
              "      <td>0.405</td>\n",
              "      <td>0.5</td>\n",
              "      <td>1</td>\n",
              "      <td>0</td>\n",
              "      <td>0</td>\n",
              "      <td>0</td>\n",
              "      <td>1</td>\n",
              "      <td>0</td>\n",
              "      <td>0</td>\n",
              "    </tr>\n",
              "    <tr>\n",
              "      <th>1</th>\n",
              "      <td>2.0</td>\n",
              "      <td>alfranken</td>\n",
              "      <td>10/5/2016 16:05</td>\n",
              "      <td>.@realDonaldTrump is tremendously indefensible...</td>\n",
              "      <td>110</td>\n",
              "      <td>268</td>\n",
              "      <td>0.5</td>\n",
              "      <td>-0.5</td>\n",
              "      <td>264601.0</td>\n",
              "      <td>1</td>\n",
              "      <td>-0.405</td>\n",
              "      <td>0.405</td>\n",
              "      <td>0.405</td>\n",
              "      <td>0.5</td>\n",
              "      <td>0</td>\n",
              "      <td>0</td>\n",
              "      <td>0</td>\n",
              "      <td>0</td>\n",
              "      <td>0</td>\n",
              "      <td>0</td>\n",
              "      <td>0</td>\n",
              "    </tr>\n",
              "    <tr>\n",
              "      <th>2</th>\n",
              "      <td>3.0</td>\n",
              "      <td>alfranken</td>\n",
              "      <td>10/5/2016 15:39</td>\n",
              "      <td>#FrankenFactcheck: @realDonaldTrump really did...</td>\n",
              "      <td>44</td>\n",
              "      <td>82</td>\n",
              "      <td>-0.5</td>\n",
              "      <td>0.5</td>\n",
              "      <td>264601.0</td>\n",
              "      <td>1</td>\n",
              "      <td>-0.405</td>\n",
              "      <td>0.405</td>\n",
              "      <td>0.405</td>\n",
              "      <td>0.5</td>\n",
              "      <td>0</td>\n",
              "      <td>0</td>\n",
              "      <td>0</td>\n",
              "      <td>0</td>\n",
              "      <td>0</td>\n",
              "      <td>0</td>\n",
              "      <td>0</td>\n",
              "    </tr>\n",
              "    <tr>\n",
              "      <th>3</th>\n",
              "      <td>4.0</td>\n",
              "      <td>alfranken</td>\n",
              "      <td>10/5/2016 15:37</td>\n",
              "      <td>Did @realdonaldtrump really say that more coun...</td>\n",
              "      <td>47</td>\n",
              "      <td>128</td>\n",
              "      <td>-0.5</td>\n",
              "      <td>0.5</td>\n",
              "      <td>264601.0</td>\n",
              "      <td>1</td>\n",
              "      <td>-0.405</td>\n",
              "      <td>0.405</td>\n",
              "      <td>0.405</td>\n",
              "      <td>0.5</td>\n",
              "      <td>1</td>\n",
              "      <td>1</td>\n",
              "      <td>0</td>\n",
              "      <td>1</td>\n",
              "      <td>0</td>\n",
              "      <td>0</td>\n",
              "      <td>0</td>\n",
              "    </tr>\n",
              "    <tr>\n",
              "      <th>4</th>\n",
              "      <td>5.0</td>\n",
              "      <td>alfranken</td>\n",
              "      <td>10/5/2016 15:37</td>\n",
              "      <td>#FrankenFactcheck: @realDonaldTrump really did...</td>\n",
              "      <td>29</td>\n",
              "      <td>62</td>\n",
              "      <td>0.5</td>\n",
              "      <td>-0.5</td>\n",
              "      <td>264601.0</td>\n",
              "      <td>1</td>\n",
              "      <td>-0.405</td>\n",
              "      <td>0.405</td>\n",
              "      <td>0.405</td>\n",
              "      <td>0.5</td>\n",
              "      <td>0</td>\n",
              "      <td>0</td>\n",
              "      <td>0</td>\n",
              "      <td>0</td>\n",
              "      <td>0</td>\n",
              "      <td>0</td>\n",
              "      <td>0</td>\n",
              "    </tr>\n",
              "  </tbody>\n",
              "</table>\n",
              "</div>"
            ],
            "text/plain": [
              "   rowname  elite_new  ... shared_negCount shared_posCount\n",
              "0      1.0  alfranken  ...               0               0\n",
              "1      2.0  alfranken  ...               0               0\n",
              "2      3.0  alfranken  ...               0               0\n",
              "3      4.0  alfranken  ...               0               0\n",
              "4      5.0  alfranken  ...               0               0\n",
              "\n",
              "[5 rows x 21 columns]"
            ]
          },
          "metadata": {
            "tags": []
          },
          "execution_count": 26
        }
      ]
    },
    {
      "cell_type": "markdown",
      "metadata": {
        "id": "VA8sMorVINUG"
      },
      "source": [
        "# Data Preparation"
      ]
    },
    {
      "cell_type": "code",
      "metadata": {
        "colab": {
          "base_uri": "https://localhost:8080/",
          "height": 204
        },
        "id": "0oVTQKZTGMGI",
        "outputId": "4e03ea0a-94dc-4d4e-ec35-285290f89683"
      },
      "source": [
        "# Drop unnecessary columns\r\n",
        "df = df.drop([\"rowname\", \"created_at\", \"favorite_count\", \"elite_idx\", \"dw_extr\", \"dwextr_rs\", \"AffectCount\", \"MoralCount\", \"neg_uniqueCount\",\t\"pos_uniqueCount\", \"shared_negCount\", \"shared_posCount\"], axis=1)\r\n",
        "df.rename(columns={\"elite_new\": \"senator\", \"dwscore.y\": \"dwscore\", \"genderfx\":\"gender\", \"shared\":\"moral-emo\"}, inplace = True)\r\n",
        "\r\n",
        "# Recode categorical values so that '1' means 'yes' and '0' means 'no'\r\n",
        "df.url = df.url + 0.5\r\n",
        "df.media = df.media + 0.5\r\n",
        "df.gender = df.gender + 0.5\r\n",
        "\r\n",
        "df.head()"
      ],
      "execution_count": null,
      "outputs": [
        {
          "output_type": "execute_result",
          "data": {
            "text/html": [
              "<div>\n",
              "<style scoped>\n",
              "    .dataframe tbody tr th:only-of-type {\n",
              "        vertical-align: middle;\n",
              "    }\n",
              "\n",
              "    .dataframe tbody tr th {\n",
              "        vertical-align: top;\n",
              "    }\n",
              "\n",
              "    .dataframe thead th {\n",
              "        text-align: right;\n",
              "    }\n",
              "</style>\n",
              "<table border=\"1\" class=\"dataframe\">\n",
              "  <thead>\n",
              "    <tr style=\"text-align: right;\">\n",
              "      <th></th>\n",
              "      <th>senator</th>\n",
              "      <th>text</th>\n",
              "      <th>retweet_count</th>\n",
              "      <th>url</th>\n",
              "      <th>media</th>\n",
              "      <th>followers</th>\n",
              "      <th>dwscore</th>\n",
              "      <th>gender</th>\n",
              "      <th>moral-emo</th>\n",
              "    </tr>\n",
              "  </thead>\n",
              "  <tbody>\n",
              "    <tr>\n",
              "      <th>0</th>\n",
              "      <td>alfranken</td>\n",
              "      <td>I'll be sitting down w/ @billmaher on @RealTim...</td>\n",
              "      <td>268</td>\n",
              "      <td>0.0</td>\n",
              "      <td>0.0</td>\n",
              "      <td>264601.0</td>\n",
              "      <td>-0.405</td>\n",
              "      <td>1.0</td>\n",
              "      <td>0</td>\n",
              "    </tr>\n",
              "    <tr>\n",
              "      <th>1</th>\n",
              "      <td>alfranken</td>\n",
              "      <td>.@realDonaldTrump is tremendously indefensible...</td>\n",
              "      <td>110</td>\n",
              "      <td>1.0</td>\n",
              "      <td>0.0</td>\n",
              "      <td>264601.0</td>\n",
              "      <td>-0.405</td>\n",
              "      <td>1.0</td>\n",
              "      <td>0</td>\n",
              "    </tr>\n",
              "    <tr>\n",
              "      <th>2</th>\n",
              "      <td>alfranken</td>\n",
              "      <td>#FrankenFactcheck: @realDonaldTrump really did...</td>\n",
              "      <td>44</td>\n",
              "      <td>0.0</td>\n",
              "      <td>1.0</td>\n",
              "      <td>264601.0</td>\n",
              "      <td>-0.405</td>\n",
              "      <td>1.0</td>\n",
              "      <td>0</td>\n",
              "    </tr>\n",
              "    <tr>\n",
              "      <th>3</th>\n",
              "      <td>alfranken</td>\n",
              "      <td>Did @realdonaldtrump really say that more coun...</td>\n",
              "      <td>47</td>\n",
              "      <td>0.0</td>\n",
              "      <td>1.0</td>\n",
              "      <td>264601.0</td>\n",
              "      <td>-0.405</td>\n",
              "      <td>1.0</td>\n",
              "      <td>0</td>\n",
              "    </tr>\n",
              "    <tr>\n",
              "      <th>4</th>\n",
              "      <td>alfranken</td>\n",
              "      <td>#FrankenFactcheck: @realDonaldTrump really did...</td>\n",
              "      <td>29</td>\n",
              "      <td>1.0</td>\n",
              "      <td>0.0</td>\n",
              "      <td>264601.0</td>\n",
              "      <td>-0.405</td>\n",
              "      <td>1.0</td>\n",
              "      <td>0</td>\n",
              "    </tr>\n",
              "  </tbody>\n",
              "</table>\n",
              "</div>"
            ],
            "text/plain": [
              "     senator  ... moral-emo\n",
              "0  alfranken  ...         0\n",
              "1  alfranken  ...         0\n",
              "2  alfranken  ...         0\n",
              "3  alfranken  ...         0\n",
              "4  alfranken  ...         0\n",
              "\n",
              "[5 rows x 9 columns]"
            ]
          },
          "metadata": {
            "tags": []
          },
          "execution_count": 102
        }
      ]
    },
    {
      "cell_type": "code",
      "metadata": {
        "colab": {
          "base_uri": "https://localhost:8080/",
          "height": 388
        },
        "id": "PS4e8TXgOnVl",
        "outputId": "60e6ed51-1fb8-466f-bc82-805b049ccf90"
      },
      "source": [
        "# Clean and Lemmatize\r\n",
        "df1 = df.copy() \r\n",
        "\r\n",
        "stop_words = set(stopwords.words('english'))\r\n",
        "\r\n",
        "punctuation = '''!\"@#$%&'()*+,-./:;<=>?[\\]^_`{|}~'''\r\n",
        "def clean_lemma(instring, spaces = True): #removes punctuation and double spaces, replacing them w/ single spaces\r\n",
        "    instring.replace(\"\\n\",\" \")\r\n",
        "    for x in punctuation:\r\n",
        "            instring = instring.replace(x, \" \")\r\n",
        "    if spaces:\r\n",
        "        while instring.find(\"  \") > -1:\r\n",
        "            instring = instring.replace(\"  \", \" \")\r\n",
        "    else:\r\n",
        "        while instring.find(\" \") > -1:\r\n",
        "            instring = instring.replace(\" \",\"\")\r\n",
        "    instring = [lemmatizer.lemmatize(w) for w in nltk.word_tokenize(instring)]\r\n",
        "    instring = [word for word in instring if word not in stop_words]\r\n",
        "    instring = ' '.join(instring)\r\n",
        "    return instring\r\n",
        "\r\n",
        "df1['clean_text'] = df1['text'].str.lower()\r\n",
        "df1['clean_text'] = df1.clean_text.apply(clean_lemma)\r\n",
        "df1.tail()"
      ],
      "execution_count": null,
      "outputs": [
        {
          "output_type": "execute_result",
          "data": {
            "text/html": [
              "<div>\n",
              "<style scoped>\n",
              "    .dataframe tbody tr th:only-of-type {\n",
              "        vertical-align: middle;\n",
              "    }\n",
              "\n",
              "    .dataframe tbody tr th {\n",
              "        vertical-align: top;\n",
              "    }\n",
              "\n",
              "    .dataframe thead th {\n",
              "        text-align: right;\n",
              "    }\n",
              "</style>\n",
              "<table border=\"1\" class=\"dataframe\">\n",
              "  <thead>\n",
              "    <tr style=\"text-align: right;\">\n",
              "      <th></th>\n",
              "      <th>senator</th>\n",
              "      <th>text</th>\n",
              "      <th>retweet_count</th>\n",
              "      <th>url</th>\n",
              "      <th>media</th>\n",
              "      <th>followers</th>\n",
              "      <th>dwscore</th>\n",
              "      <th>gender</th>\n",
              "      <th>moral-emo</th>\n",
              "      <th>clean_text</th>\n",
              "    </tr>\n",
              "  </thead>\n",
              "  <tbody>\n",
              "    <tr>\n",
              "      <th>99745</th>\n",
              "      <td>timkaine</td>\n",
              "      <td>The @NRA opposes common sense solutions to gun...</td>\n",
              "      <td>61</td>\n",
              "      <td>0.0</td>\n",
              "      <td>0.0</td>\n",
              "      <td>344733.0008</td>\n",
              "      <td>-0.235</td>\n",
              "      <td>1.0</td>\n",
              "      <td>0</td>\n",
              "      <td>nra opposes common sense solution gun violence...</td>\n",
              "    </tr>\n",
              "    <tr>\n",
              "      <th>99746</th>\n",
              "      <td>timkaine</td>\n",
              "      <td>We need to create a records check system to ke...</td>\n",
              "      <td>3</td>\n",
              "      <td>0.0</td>\n",
              "      <td>0.0</td>\n",
              "      <td>344733.0008</td>\n",
              "      <td>-0.235</td>\n",
              "      <td>1.0</td>\n",
              "      <td>0</td>\n",
              "      <td>need create record check system keep weapon ha...</td>\n",
              "    </tr>\n",
              "    <tr>\n",
              "      <th>99747</th>\n",
              "      <td>timkaine</td>\n",
              "      <td>Epidemic of gun violence needs a comprehensive...</td>\n",
              "      <td>25</td>\n",
              "      <td>0.0</td>\n",
              "      <td>0.0</td>\n",
              "      <td>344733.0008</td>\n",
              "      <td>-0.235</td>\n",
              "      <td>1.0</td>\n",
              "      <td>0</td>\n",
              "      <td>epidemic gun violence need comprehensive solut...</td>\n",
              "    </tr>\n",
              "    <tr>\n",
              "      <th>99748</th>\n",
              "      <td>timkaine</td>\n",
              "      <td>Headed to a #stopgunviolence press conference ...</td>\n",
              "      <td>12</td>\n",
              "      <td>1.0</td>\n",
              "      <td>0.0</td>\n",
              "      <td>344733.0008</td>\n",
              "      <td>-0.235</td>\n",
              "      <td>1.0</td>\n",
              "      <td>1</td>\n",
              "      <td>headed stopgunviolence press conference unveil...</td>\n",
              "    </tr>\n",
              "    <tr>\n",
              "      <th>99749</th>\n",
              "      <td>timkaine</td>\n",
              "      <td>Headed to a Armed Service Committee hearing on...</td>\n",
              "      <td>9</td>\n",
              "      <td>1.0</td>\n",
              "      <td>0.0</td>\n",
              "      <td>344733.0008</td>\n",
              "      <td>-0.235</td>\n",
              "      <td>1.0</td>\n",
              "      <td>0</td>\n",
              "      <td>headed armed service committee hearing russian...</td>\n",
              "    </tr>\n",
              "  </tbody>\n",
              "</table>\n",
              "</div>"
            ],
            "text/plain": [
              "        senator  ...                                         clean_text\n",
              "99745  timkaine  ...  nra opposes common sense solution gun violence...\n",
              "99746  timkaine  ...  need create record check system keep weapon ha...\n",
              "99747  timkaine  ...  epidemic gun violence need comprehensive solut...\n",
              "99748  timkaine  ...  headed stopgunviolence press conference unveil...\n",
              "99749  timkaine  ...  headed armed service committee hearing russian...\n",
              "\n",
              "[5 rows x 10 columns]"
            ]
          },
          "metadata": {
            "tags": []
          },
          "execution_count": 103
        }
      ]
    },
    {
      "cell_type": "code",
      "metadata": {
        "colab": {
          "base_uri": "https://localhost:8080/",
          "height": 443
        },
        "id": "u9EUdBmaWe7H",
        "outputId": "64fd3ec4-34b8-43eb-d759-5028c1ba4021"
      },
      "source": [
        "# add a column for retweetablity\r\n",
        "def retweetable(x):\r\n",
        "    if x < 6 : return 0\r\n",
        "    else : return 1\r\n",
        "  \r\n",
        "df1[\"retweetable\"] = df1[\"retweet_count\"].apply(retweetable)\r\n",
        "print(df1[\"retweetable\"].value_counts())\r\n",
        "df1.head()"
      ],
      "execution_count": null,
      "outputs": [
        {
          "output_type": "stream",
          "text": [
            "1    50234\n",
            "0    49516\n",
            "Name: retweetable, dtype: int64\n"
          ],
          "name": "stdout"
        },
        {
          "output_type": "execute_result",
          "data": {
            "text/html": [
              "<div>\n",
              "<style scoped>\n",
              "    .dataframe tbody tr th:only-of-type {\n",
              "        vertical-align: middle;\n",
              "    }\n",
              "\n",
              "    .dataframe tbody tr th {\n",
              "        vertical-align: top;\n",
              "    }\n",
              "\n",
              "    .dataframe thead th {\n",
              "        text-align: right;\n",
              "    }\n",
              "</style>\n",
              "<table border=\"1\" class=\"dataframe\">\n",
              "  <thead>\n",
              "    <tr style=\"text-align: right;\">\n",
              "      <th></th>\n",
              "      <th>senator</th>\n",
              "      <th>text</th>\n",
              "      <th>retweet_count</th>\n",
              "      <th>url</th>\n",
              "      <th>media</th>\n",
              "      <th>followers</th>\n",
              "      <th>dwscore</th>\n",
              "      <th>gender</th>\n",
              "      <th>moral-emo</th>\n",
              "      <th>clean_text</th>\n",
              "      <th>retweetable</th>\n",
              "    </tr>\n",
              "  </thead>\n",
              "  <tbody>\n",
              "    <tr>\n",
              "      <th>0</th>\n",
              "      <td>alfranken</td>\n",
              "      <td>I'll be sitting down w/ @billmaher on @RealTim...</td>\n",
              "      <td>268</td>\n",
              "      <td>0.0</td>\n",
              "      <td>0.0</td>\n",
              "      <td>264601.0</td>\n",
              "      <td>-0.405</td>\n",
              "      <td>1.0</td>\n",
              "      <td>0</td>\n",
              "      <td>sitting w billmaher realtimers tonight talk ta...</td>\n",
              "      <td>1</td>\n",
              "    </tr>\n",
              "    <tr>\n",
              "      <th>1</th>\n",
              "      <td>alfranken</td>\n",
              "      <td>.@realDonaldTrump is tremendously indefensible...</td>\n",
              "      <td>110</td>\n",
              "      <td>1.0</td>\n",
              "      <td>0.0</td>\n",
              "      <td>264601.0</td>\n",
              "      <td>-0.405</td>\n",
              "      <td>1.0</td>\n",
              "      <td>0</td>\n",
              "      <td>realdonaldtrump tremendously indefensible http...</td>\n",
              "      <td>1</td>\n",
              "    </tr>\n",
              "    <tr>\n",
              "      <th>2</th>\n",
              "      <td>alfranken</td>\n",
              "      <td>#FrankenFactcheck: @realDonaldTrump really did...</td>\n",
              "      <td>44</td>\n",
              "      <td>0.0</td>\n",
              "      <td>1.0</td>\n",
              "      <td>264601.0</td>\n",
              "      <td>-0.405</td>\n",
              "      <td>1.0</td>\n",
              "      <td>0</td>\n",
              "      <td>frankenfactcheck realdonaldtrump really toovil...</td>\n",
              "      <td>1</td>\n",
              "    </tr>\n",
              "    <tr>\n",
              "      <th>3</th>\n",
              "      <td>alfranken</td>\n",
              "      <td>Did @realdonaldtrump really say that more coun...</td>\n",
              "      <td>47</td>\n",
              "      <td>0.0</td>\n",
              "      <td>1.0</td>\n",
              "      <td>264601.0</td>\n",
              "      <td>-0.405</td>\n",
              "      <td>1.0</td>\n",
              "      <td>0</td>\n",
              "      <td>realdonaldtrump really say country nuclear wea...</td>\n",
              "      <td>1</td>\n",
              "    </tr>\n",
              "    <tr>\n",
              "      <th>4</th>\n",
              "      <td>alfranken</td>\n",
              "      <td>#FrankenFactcheck: @realDonaldTrump really did...</td>\n",
              "      <td>29</td>\n",
              "      <td>1.0</td>\n",
              "      <td>0.0</td>\n",
              "      <td>264601.0</td>\n",
              "      <td>-0.405</td>\n",
              "      <td>1.0</td>\n",
              "      <td>0</td>\n",
              "      <td>frankenfactcheck realdonaldtrump really http c...</td>\n",
              "      <td>1</td>\n",
              "    </tr>\n",
              "  </tbody>\n",
              "</table>\n",
              "</div>"
            ],
            "text/plain": [
              "     senator  ... retweetable\n",
              "0  alfranken  ...           1\n",
              "1  alfranken  ...           1\n",
              "2  alfranken  ...           1\n",
              "3  alfranken  ...           1\n",
              "4  alfranken  ...           1\n",
              "\n",
              "[5 rows x 11 columns]"
            ]
          },
          "metadata": {
            "tags": []
          },
          "execution_count": 105
        }
      ]
    },
    {
      "cell_type": "markdown",
      "metadata": {
        "id": "lA49ri4zYFIi"
      },
      "source": [
        "## Sentiment Analysis"
      ]
    },
    {
      "cell_type": "code",
      "metadata": {
        "colab": {
          "base_uri": "https://localhost:8080/",
          "height": 202
        },
        "id": "RmekQIrxWJ_H",
        "outputId": "e58fe549-11f4-4e0e-fa7c-f4f44396f602"
      },
      "source": [
        "# Prepping the NRC dictionary for sentiment analysis\r\n",
        "filepath = \"/content/drive/My Drive/Colab Notebooks/thesis/NRC-Emotion-Lexicon-Wordlevel-v0.92.txt\"\r\n",
        "nrc_df = pd.read_csv(filepath,  names=[\"word\", \"emotion\", \"association\"], sep='\\t')\r\n",
        "# I'm deleting a list of entries that are not associated with any emotion\r\n",
        "nrc_df = nrc_df[nrc_df.association != 0]\r\n",
        "nrc_df.head()"
      ],
      "execution_count": null,
      "outputs": [
        {
          "output_type": "execute_result",
          "data": {
            "text/html": [
              "<div>\n",
              "<style scoped>\n",
              "    .dataframe tbody tr th:only-of-type {\n",
              "        vertical-align: middle;\n",
              "    }\n",
              "\n",
              "    .dataframe tbody tr th {\n",
              "        vertical-align: top;\n",
              "    }\n",
              "\n",
              "    .dataframe thead th {\n",
              "        text-align: right;\n",
              "    }\n",
              "</style>\n",
              "<table border=\"1\" class=\"dataframe\">\n",
              "  <thead>\n",
              "    <tr style=\"text-align: right;\">\n",
              "      <th></th>\n",
              "      <th>word</th>\n",
              "      <th>emotion</th>\n",
              "      <th>association</th>\n",
              "    </tr>\n",
              "  </thead>\n",
              "  <tbody>\n",
              "    <tr>\n",
              "      <th>19</th>\n",
              "      <td>abacus</td>\n",
              "      <td>trust</td>\n",
              "      <td>1</td>\n",
              "    </tr>\n",
              "    <tr>\n",
              "      <th>23</th>\n",
              "      <td>abandon</td>\n",
              "      <td>fear</td>\n",
              "      <td>1</td>\n",
              "    </tr>\n",
              "    <tr>\n",
              "      <th>25</th>\n",
              "      <td>abandon</td>\n",
              "      <td>negative</td>\n",
              "      <td>1</td>\n",
              "    </tr>\n",
              "    <tr>\n",
              "      <th>27</th>\n",
              "      <td>abandon</td>\n",
              "      <td>sadness</td>\n",
              "      <td>1</td>\n",
              "    </tr>\n",
              "    <tr>\n",
              "      <th>30</th>\n",
              "      <td>abandoned</td>\n",
              "      <td>anger</td>\n",
              "      <td>1</td>\n",
              "    </tr>\n",
              "  </tbody>\n",
              "</table>\n",
              "</div>"
            ],
            "text/plain": [
              "         word   emotion  association\n",
              "19     abacus     trust            1\n",
              "23    abandon      fear            1\n",
              "25    abandon  negative            1\n",
              "27    abandon   sadness            1\n",
              "30  abandoned     anger            1"
            ]
          },
          "metadata": {
            "tags": []
          },
          "execution_count": 5
        }
      ]
    },
    {
      "cell_type": "code",
      "metadata": {
        "id": "why8L5RHopKn"
      },
      "source": [
        "# Create a 'outrage' dictionary\r\n",
        "nrc_outrage = nrc_df[(nrc_df.emotion == 'anger') | (nrc_df.emotion == 'disgust')]\r\n",
        "# Create a 'fear' dictionary\r\n",
        "nrc_fear = nrc_df[nrc_df.emotion == 'fear']\r\n",
        "# Create a 'positive' dictionary\r\n",
        "nrc_pos = nrc_df[nrc_df.emotion == 'positive']\r\n",
        "# Create a 'negative' dictionary\r\n",
        "nrc_neg = nrc_df[nrc_df.emotion == 'negative']"
      ],
      "execution_count": null,
      "outputs": []
    },
    {
      "cell_type": "code",
      "metadata": {
        "colab": {
          "base_uri": "https://localhost:8080/"
        },
        "id": "K5G2D7WHkX2Q",
        "outputId": "c21c32bc-215d-4835-f0b0-78d48ed0b8b2"
      },
      "source": [
        "# Word counts for each dictionary\r\n",
        "print(nrc_outrage.count)\r\n",
        "print(nrc_fear.count)\r\n",
        "print(nrc_pos.count)\r\n",
        "print(nrc_neg.count)"
      ],
      "execution_count": null,
      "outputs": [
        {
          "output_type": "stream",
          "text": [
            "<bound method DataFrame.count of                word  emotion  association\n",
            "30        abandoned    anger            1\n",
            "40      abandonment    anger            1\n",
            "152      aberration  disgust            1\n",
            "170           abhor    anger            1\n",
            "172           abhor  disgust            1\n",
            "...             ...      ...          ...\n",
            "141222     wrongful  disgust            1\n",
            "141230      wrongly    anger            1\n",
            "141470         yell    anger            1\n",
            "141500         yelp    anger            1\n",
            "141640        youth    anger            1\n",
            "\n",
            "[2305 rows x 3 columns]>\n",
            "<bound method DataFrame.count of                word emotion  association\n",
            "23          abandon    fear            1\n",
            "33        abandoned    fear            1\n",
            "43      abandonment    fear            1\n",
            "133       abduction    fear            1\n",
            "173           abhor    fear            1\n",
            "...             ...     ...          ...\n",
            "141233      wrongly    fear            1\n",
            "141263   xenophobia    fear            1\n",
            "141473         yell    fear            1\n",
            "141503         yelp    fear            1\n",
            "141643        youth    fear            1\n",
            "\n",
            "[1476 rows x 3 columns]>\n",
            "<bound method DataFrame.count of                   word   emotion  association\n",
            "76                abba  positive            1\n",
            "206            ability  positive            1\n",
            "366     abovementioned  positive            1\n",
            "486           absolute  positive            1\n",
            "496         absolution  positive            1\n",
            "...                ...       ...          ...\n",
            "141636         younger  positive            1\n",
            "141646           youth  positive            1\n",
            "141676            zeal  positive            1\n",
            "141696         zealous  positive            1\n",
            "141746            zest  positive            1\n",
            "\n",
            "[2312 rows x 3 columns]>\n",
            "<bound method DataFrame.count of                word   emotion  association\n",
            "25          abandon  negative            1\n",
            "35        abandoned  negative            1\n",
            "45      abandonment  negative            1\n",
            "135       abduction  negative            1\n",
            "145        aberrant  negative            1\n",
            "...             ...       ...          ...\n",
            "141445     yearning  negative            1\n",
            "141475         yell  negative            1\n",
            "141495      yellows  negative            1\n",
            "141505         yelp  negative            1\n",
            "141755          zip  negative            1\n",
            "\n",
            "[3324 rows x 3 columns]>\n"
          ],
          "name": "stdout"
        }
      ]
    },
    {
      "cell_type": "code",
      "metadata": {
        "id": "qCncqkkiotmm"
      },
      "source": [
        "# Create a function for 'outrage' score\r\n",
        "def outrage_senti(txt):\r\n",
        "    token = nltk.word_tokenize(txt)\r\n",
        "    outrage_count = 0\r\n",
        "    for word in token:\r\n",
        "        for o in nrc_outrage['word']:\r\n",
        "            if word == o:\r\n",
        "                outrage_count += 1\r\n",
        "    return outrage_count / len(token)\r\n",
        "\r\n",
        "# Create a function for 'fear' score\r\n",
        "def fear_senti(txt):\r\n",
        "    token = nltk.word_tokenize(txt)\r\n",
        "    fear_count = 0\r\n",
        "    for word in token:\r\n",
        "        for o in nrc_fear['word']:\r\n",
        "            if word == o:\r\n",
        "                fear_count += 1\r\n",
        "    return fear_count / len(token)\r\n",
        "\r\n",
        "# Create a fuction for 'posneg' score\r\n",
        "def posneg(txt):\r\n",
        "    token = nltk.word_tokenize(txt)\r\n",
        "    pos_count = 0\r\n",
        "    neg_count = 0\r\n",
        "    for word in token:\r\n",
        "        for p in nrc_pos['word']:\r\n",
        "            if word == p:\r\n",
        "                pos_count += 1\r\n",
        "        for n in nrc_neg['word']:\r\n",
        "            if word == n:\r\n",
        "                neg_count += 1\r\n",
        "    return (pos_count - neg_count) / len(token)"
      ],
      "execution_count": null,
      "outputs": []
    },
    {
      "cell_type": "code",
      "metadata": {
        "id": "gZXUOoxYozzH"
      },
      "source": [
        "# Create a new column for 'outrage score'\r\n",
        "df1['outrage'] = df1.clean_text.apply(outrage_senti)\r\n",
        "# Create a new column for 'fear score'\r\n",
        "df1['fear'] = df1.clean_text.apply(fear_senti)\r\n",
        "# Create a new column for 'pos/neg' score\r\n",
        "df1['posneg'] = df1.clean_text.apply(posneg)"
      ],
      "execution_count": null,
      "outputs": []
    },
    {
      "cell_type": "code",
      "metadata": {
        "id": "lpeab04tSXfB"
      },
      "source": [
        "# The number of moral-emotional words needs to be divided by the length of tokens\r\n",
        "df1 = df.copy() \r\n",
        "def token_count(txt):\r\n",
        "    token = nltk.word_tokenize(txt)\r\n",
        "    return len(token)\r\n",
        "df1['token_num'] = df1.clean_text.apply(token_count)\r\n",
        "df1['moral-emo'] = df1.apply(lambda x: x['moral-emo']/x['token_num'], axis=1)\r\n",
        "# Dropping the 'token_num' column as it is no longer needed\r\n",
        "df1 = df1.drop([\"token_num\"], axis=1)"
      ],
      "execution_count": null,
      "outputs": []
    },
    {
      "cell_type": "code",
      "metadata": {
        "id": "Rl8Wj4WKft1o"
      },
      "source": [
        "# Save the df1 file\r\n",
        "df1.to_csv('preprocessed_data.csv')\r\n",
        "!cp preprocessed_data.csv \"/content/drive/My Drive/Colab Notebooks/thesis/\""
      ],
      "execution_count": null,
      "outputs": []
    },
    {
      "cell_type": "code",
      "metadata": {
        "colab": {
          "base_uri": "https://localhost:8080/"
        },
        "id": "00C2UAyNcvO_",
        "outputId": "d47b11c9-3bdd-4313-cb7c-bc2c7a711dd2"
      },
      "source": [
        "#  For explatory analysis\r\n",
        "\r\n",
        "# Create a new column for a ln value of 'followers'\r\n",
        "df1['ln_followers'] = np.log(df1['followers'])\r\n",
        "# Create a new column for a ln value of 'retweet'\r\n",
        "df1['ln_retweet'] = np.log(df1['retweet_count'])\r\n",
        "# Replaced all '-inf' to 0\r\n",
        "df1 = df1.replace({'ln_retweet': {-inf: 0}})"
      ],
      "execution_count": null,
      "outputs": [
        {
          "output_type": "stream",
          "text": [
            "/usr/local/lib/python3.6/dist-packages/pandas/core/series.py:726: RuntimeWarning:\n",
            "\n",
            "divide by zero encountered in log\n",
            "\n"
          ],
          "name": "stderr"
        }
      ]
    },
    {
      "cell_type": "code",
      "metadata": {
        "id": "KKh1CAjbbYC4"
      },
      "source": [
        "# Save the df1 file\r\n",
        "df1.to_csv('preprocessed_data1.csv')\r\n",
        "!cp preprocessed_data1.csv \"/content/drive/My Drive/Colab Notebooks/thesis/\""
      ],
      "execution_count": null,
      "outputs": []
    },
    {
      "cell_type": "markdown",
      "metadata": {
        "id": "7JOOC1Gnu9hB"
      },
      "source": [
        "# Building Prediction Models"
      ]
    },
    {
      "cell_type": "code",
      "metadata": {
        "id": "FMZsFVXjr-J7",
        "colab": {
          "base_uri": "https://localhost:8080/"
        },
        "outputId": "64be96bf-dff9-4a24-d272-b7755e55b898"
      },
      "source": [
        "%matplotlib inline\r\n",
        "import pandas as pd\r\n",
        "import numpy as np\r\n",
        "# Visualization\r\n",
        "import seaborn as sns\r\n",
        "import matplotlib as mpl\r\n",
        "import matplotlib.pyplot as plt\r\n",
        "from matplotlib import pyplot\r\n",
        "from xgboost import plot_importance\r\n",
        "\r\n",
        "from sklearn.model_selection import cross_val_score\r\n",
        "from sklearn.model_selection import GridSearchCV\r\n",
        "from sklearn.feature_extraction.text import TfidfVectorizer\r\n",
        "from sklearn.feature_extraction.text import CountVectorizer\r\n",
        "from sklearn.preprocessing import StandardScaler\r\n",
        "from sklearn.model_selection import train_test_split\r\n",
        "\r\n",
        "from sklearn.linear_model import LogisticRegression\r\n",
        "from sklearn.neighbors import KNeighborsClassifier\r\n",
        "from sklearn.ensemble import RandomForestClassifier\r\n",
        "import xgboost as xgb\r\n",
        "\r\n",
        "from sklearn.svm import SVR\r\n",
        "from sklearn.feature_extraction.text import TfidfTransformer\r\n",
        "from sklearn.pipeline import make_pipeline\r\n",
        "import statsmodels.api as sm\r\n",
        "import statsmodels.formula.api as smf\r\n",
        "\r\n",
        "from sklearn.metrics import classification_report\r\n",
        "from sklearn.metrics import auc\r\n",
        "from sklearn.metrics import roc_curve\r\n",
        "from sklearn.model_selection import KFold\r\n",
        "kfold = KFold(n_splits=5)\r\n",
        "\r\n",
        "# Supress Warningsv\r\n",
        "import warnings\r\n",
        "warnings.simplefilter(action='ignore', category=FutureWarning)\r\n",
        "\r\n",
        "from sklearn.exceptions import DataConversionWarning\r\n",
        "warnings.filterwarnings(action='ignore', category=DataConversionWarning)"
      ],
      "execution_count": null,
      "outputs": [
        {
          "output_type": "stream",
          "text": [
            "/usr/local/lib/python3.6/dist-packages/statsmodels/tools/_testing.py:19: FutureWarning:\n",
            "\n",
            "pandas.util.testing is deprecated. Use the functions in the public API at pandas.testing instead.\n",
            "\n"
          ],
          "name": "stderr"
        }
      ]
    },
    {
      "cell_type": "code",
      "metadata": {
        "colab": {
          "base_uri": "https://localhost:8080/"
        },
        "id": "08hrhNE-VTkt",
        "outputId": "4c12acdb-35c5-4d43-8238-adab6fac5463"
      },
      "source": [
        "!pip install shap\r\n",
        "import shap"
      ],
      "execution_count": null,
      "outputs": [
        {
          "output_type": "stream",
          "text": [
            "Collecting shap\n",
            "\u001b[?25l  Downloading https://files.pythonhosted.org/packages/85/a3/c0eab9dd6a894165e2cb87504ff5b2710ac5ede3447d9138620b7341b6a2/shap-0.37.0.tar.gz (326kB)\n",
            "\r\u001b[K     |█                               | 10kB 20.3MB/s eta 0:00:01\r\u001b[K     |██                              | 20kB 21.1MB/s eta 0:00:01\r\u001b[K     |███                             | 30kB 11.7MB/s eta 0:00:01\r\u001b[K     |████                            | 40kB 8.6MB/s eta 0:00:01\r\u001b[K     |█████                           | 51kB 4.4MB/s eta 0:00:01\r\u001b[K     |██████                          | 61kB 5.0MB/s eta 0:00:01\r\u001b[K     |███████                         | 71kB 5.0MB/s eta 0:00:01\r\u001b[K     |████████                        | 81kB 5.4MB/s eta 0:00:01\r\u001b[K     |█████████                       | 92kB 5.3MB/s eta 0:00:01\r\u001b[K     |██████████                      | 102kB 4.3MB/s eta 0:00:01\r\u001b[K     |███████████                     | 112kB 4.3MB/s eta 0:00:01\r\u001b[K     |████████████                    | 122kB 4.3MB/s eta 0:00:01\r\u001b[K     |█████████████                   | 133kB 4.3MB/s eta 0:00:01\r\u001b[K     |██████████████                  | 143kB 4.3MB/s eta 0:00:01\r\u001b[K     |███████████████                 | 153kB 4.3MB/s eta 0:00:01\r\u001b[K     |████████████████                | 163kB 4.3MB/s eta 0:00:01\r\u001b[K     |█████████████████               | 174kB 4.3MB/s eta 0:00:01\r\u001b[K     |██████████████████              | 184kB 4.3MB/s eta 0:00:01\r\u001b[K     |███████████████████             | 194kB 4.3MB/s eta 0:00:01\r\u001b[K     |████████████████████            | 204kB 4.3MB/s eta 0:00:01\r\u001b[K     |█████████████████████           | 215kB 4.3MB/s eta 0:00:01\r\u001b[K     |██████████████████████          | 225kB 4.3MB/s eta 0:00:01\r\u001b[K     |███████████████████████         | 235kB 4.3MB/s eta 0:00:01\r\u001b[K     |████████████████████████        | 245kB 4.3MB/s eta 0:00:01\r\u001b[K     |█████████████████████████       | 256kB 4.3MB/s eta 0:00:01\r\u001b[K     |██████████████████████████      | 266kB 4.3MB/s eta 0:00:01\r\u001b[K     |███████████████████████████     | 276kB 4.3MB/s eta 0:00:01\r\u001b[K     |████████████████████████████    | 286kB 4.3MB/s eta 0:00:01\r\u001b[K     |█████████████████████████████   | 296kB 4.3MB/s eta 0:00:01\r\u001b[K     |██████████████████████████████  | 307kB 4.3MB/s eta 0:00:01\r\u001b[K     |███████████████████████████████ | 317kB 4.3MB/s eta 0:00:01\r\u001b[K     |████████████████████████████████| 327kB 4.3MB/s \n",
            "\u001b[?25hRequirement already satisfied: numpy in /usr/local/lib/python3.6/dist-packages (from shap) (1.19.4)\n",
            "Requirement already satisfied: scipy in /usr/local/lib/python3.6/dist-packages (from shap) (1.4.1)\n",
            "Requirement already satisfied: scikit-learn in /usr/local/lib/python3.6/dist-packages (from shap) (0.22.2.post1)\n",
            "Requirement already satisfied: pandas in /usr/local/lib/python3.6/dist-packages (from shap) (1.1.5)\n",
            "Requirement already satisfied: tqdm>4.25.0 in /usr/local/lib/python3.6/dist-packages (from shap) (4.41.1)\n",
            "Collecting slicer==0.0.3\n",
            "  Downloading https://files.pythonhosted.org/packages/02/a6/c708c5a0f338e99cfbcb6288b88794525548e4fc1b8457feec2c552a81a4/slicer-0.0.3-py3-none-any.whl\n",
            "Requirement already satisfied: numba in /usr/local/lib/python3.6/dist-packages (from shap) (0.48.0)\n",
            "Requirement already satisfied: joblib>=0.11 in /usr/local/lib/python3.6/dist-packages (from scikit-learn->shap) (1.0.0)\n",
            "Requirement already satisfied: python-dateutil>=2.7.3 in /usr/local/lib/python3.6/dist-packages (from pandas->shap) (2.8.1)\n",
            "Requirement already satisfied: pytz>=2017.2 in /usr/local/lib/python3.6/dist-packages (from pandas->shap) (2018.9)\n",
            "Requirement already satisfied: llvmlite<0.32.0,>=0.31.0dev0 in /usr/local/lib/python3.6/dist-packages (from numba->shap) (0.31.0)\n",
            "Requirement already satisfied: setuptools in /usr/local/lib/python3.6/dist-packages (from numba->shap) (51.0.0)\n",
            "Requirement already satisfied: six>=1.5 in /usr/local/lib/python3.6/dist-packages (from python-dateutil>=2.7.3->pandas->shap) (1.15.0)\n",
            "Building wheels for collected packages: shap\n",
            "  Building wheel for shap (setup.py) ... \u001b[?25l\u001b[?25hdone\n",
            "  Created wheel for shap: filename=shap-0.37.0-cp36-cp36m-linux_x86_64.whl size=463902 sha256=54e3b81c8c8bea662fedbab75128a0b4f2f7ed9551451dff94dbbb988fd94aa1\n",
            "  Stored in directory: /root/.cache/pip/wheels/df/ad/b0/aa7815ec68850d66551ef618095eccb962c8f6022f1d3dd989\n",
            "Successfully built shap\n",
            "Installing collected packages: slicer, shap\n",
            "Successfully installed shap-0.37.0 slicer-0.0.3\n"
          ],
          "name": "stdout"
        }
      ]
    },
    {
      "cell_type": "code",
      "metadata": {
        "colab": {
          "base_uri": "https://localhost:8080/",
          "height": 546
        },
        "id": "rGNgual0vNyb",
        "outputId": "be8ee10f-f265-4e47-e7a2-38fa91d97dd4"
      },
      "source": [
        "df = pd.read_csv(\"/content/drive/My Drive/Colab Notebooks/thesis/preprocessed_data.csv\")\r\n",
        "df.tail()"
      ],
      "execution_count": null,
      "outputs": [
        {
          "output_type": "execute_result",
          "data": {
            "text/html": [
              "<div>\n",
              "<style scoped>\n",
              "    .dataframe tbody tr th:only-of-type {\n",
              "        vertical-align: middle;\n",
              "    }\n",
              "\n",
              "    .dataframe tbody tr th {\n",
              "        vertical-align: top;\n",
              "    }\n",
              "\n",
              "    .dataframe thead th {\n",
              "        text-align: right;\n",
              "    }\n",
              "</style>\n",
              "<table border=\"1\" class=\"dataframe\">\n",
              "  <thead>\n",
              "    <tr style=\"text-align: right;\">\n",
              "      <th></th>\n",
              "      <th>Unnamed: 0</th>\n",
              "      <th>Unnamed: 0.1</th>\n",
              "      <th>senator</th>\n",
              "      <th>text</th>\n",
              "      <th>retweet_count</th>\n",
              "      <th>url</th>\n",
              "      <th>media</th>\n",
              "      <th>followers</th>\n",
              "      <th>dwscore</th>\n",
              "      <th>gender</th>\n",
              "      <th>moral-emo</th>\n",
              "      <th>clean_text</th>\n",
              "      <th>retweetable</th>\n",
              "      <th>outrage</th>\n",
              "      <th>fear</th>\n",
              "      <th>posneg</th>\n",
              "    </tr>\n",
              "  </thead>\n",
              "  <tbody>\n",
              "    <tr>\n",
              "      <th>99745</th>\n",
              "      <td>99745</td>\n",
              "      <td>99745</td>\n",
              "      <td>timkaine</td>\n",
              "      <td>The @NRA opposes common sense solutions to gun...</td>\n",
              "      <td>61</td>\n",
              "      <td>0.0</td>\n",
              "      <td>0.0</td>\n",
              "      <td>344733.0008</td>\n",
              "      <td>-0.235</td>\n",
              "      <td>1.0</td>\n",
              "      <td>0.000000</td>\n",
              "      <td>nra opposes common sense solution gun violence...</td>\n",
              "      <td>1</td>\n",
              "      <td>0.200000</td>\n",
              "      <td>0.200000</td>\n",
              "      <td>-0.066667</td>\n",
              "    </tr>\n",
              "    <tr>\n",
              "      <th>99746</th>\n",
              "      <td>99746</td>\n",
              "      <td>99746</td>\n",
              "      <td>timkaine</td>\n",
              "      <td>We need to create a records check system to ke...</td>\n",
              "      <td>3</td>\n",
              "      <td>0.0</td>\n",
              "      <td>0.0</td>\n",
              "      <td>344733.0008</td>\n",
              "      <td>-0.235</td>\n",
              "      <td>1.0</td>\n",
              "      <td>0.000000</td>\n",
              "      <td>need create record check system keep weapon ha...</td>\n",
              "      <td>0</td>\n",
              "      <td>0.000000</td>\n",
              "      <td>0.000000</td>\n",
              "      <td>0.090909</td>\n",
              "    </tr>\n",
              "    <tr>\n",
              "      <th>99747</th>\n",
              "      <td>99747</td>\n",
              "      <td>99747</td>\n",
              "      <td>timkaine</td>\n",
              "      <td>Epidemic of gun violence needs a comprehensive...</td>\n",
              "      <td>25</td>\n",
              "      <td>0.0</td>\n",
              "      <td>0.0</td>\n",
              "      <td>344733.0008</td>\n",
              "      <td>-0.235</td>\n",
              "      <td>1.0</td>\n",
              "      <td>0.000000</td>\n",
              "      <td>epidemic gun violence need comprehensive solut...</td>\n",
              "      <td>1</td>\n",
              "      <td>0.285714</td>\n",
              "      <td>0.214286</td>\n",
              "      <td>0.000000</td>\n",
              "    </tr>\n",
              "    <tr>\n",
              "      <th>99748</th>\n",
              "      <td>99748</td>\n",
              "      <td>99748</td>\n",
              "      <td>timkaine</td>\n",
              "      <td>Headed to a #stopgunviolence press conference ...</td>\n",
              "      <td>12</td>\n",
              "      <td>1.0</td>\n",
              "      <td>0.0</td>\n",
              "      <td>344733.0008</td>\n",
              "      <td>-0.235</td>\n",
              "      <td>1.0</td>\n",
              "      <td>0.066667</td>\n",
              "      <td>headed stopgunviolence press conference unveil...</td>\n",
              "      <td>1</td>\n",
              "      <td>0.066667</td>\n",
              "      <td>0.133333</td>\n",
              "      <td>0.000000</td>\n",
              "    </tr>\n",
              "    <tr>\n",
              "      <th>99749</th>\n",
              "      <td>99749</td>\n",
              "      <td>99749</td>\n",
              "      <td>timkaine</td>\n",
              "      <td>Headed to a Armed Service Committee hearing on...</td>\n",
              "      <td>9</td>\n",
              "      <td>1.0</td>\n",
              "      <td>0.0</td>\n",
              "      <td>344733.0008</td>\n",
              "      <td>-0.235</td>\n",
              "      <td>1.0</td>\n",
              "      <td>0.000000</td>\n",
              "      <td>headed armed service committee hearing russian...</td>\n",
              "      <td>1</td>\n",
              "      <td>0.062500</td>\n",
              "      <td>0.312500</td>\n",
              "      <td>-0.062500</td>\n",
              "    </tr>\n",
              "  </tbody>\n",
              "</table>\n",
              "</div>"
            ],
            "text/plain": [
              "       Unnamed: 0  Unnamed: 0.1   senator  ...   outrage      fear    posneg\n",
              "99745       99745         99745  timkaine  ...  0.200000  0.200000 -0.066667\n",
              "99746       99746         99746  timkaine  ...  0.000000  0.000000  0.090909\n",
              "99747       99747         99747  timkaine  ...  0.285714  0.214286  0.000000\n",
              "99748       99748         99748  timkaine  ...  0.066667  0.133333  0.000000\n",
              "99749       99749         99749  timkaine  ...  0.062500  0.312500 -0.062500\n",
              "\n",
              "[5 rows x 16 columns]"
            ]
          },
          "metadata": {
            "tags": []
          },
          "execution_count": 27
        }
      ]
    },
    {
      "cell_type": "markdown",
      "metadata": {
        "id": "x46DQ--60wiD"
      },
      "source": [
        "## Description of Data\r\n",
        "* how many rows had a zero for each sentiment analysis"
      ]
    },
    {
      "cell_type": "markdown",
      "metadata": {
        "id": "BbnUMeiaOinu"
      },
      "source": [
        "### Heatmap (Correlation Matrix Visualization)"
      ]
    },
    {
      "cell_type": "code",
      "metadata": {
        "colab": {
          "base_uri": "https://localhost:8080/",
          "height": 445
        },
        "id": "vdLP09jVOhMD",
        "outputId": "4aa26dc7-b059-4f62-a565-02ccb2577f8b"
      },
      "source": [
        "features = df[['retweetable', 'posneg', 'moral-emo', 'outrage', 'fear', 'followers', 'dwscore', 'url', 'media', 'gender']]\r\n",
        "\r\n",
        "plt.figure(figsize=(10,8))\r\n",
        "sns.heatmap(features.corr(method='pearson'), annot=True, fmt='.2g', cbar_kws= {'orientation': 'horizontal'})\r\n",
        "\r\n",
        "plt.show()"
      ],
      "execution_count": null,
      "outputs": [
        {
          "output_type": "display_data",
          "data": {
            "image/png": "[encoded data removed]",
            "text/plain": [
              "<Figure size 720x576 with 2 Axes>"
            ]
          },
          "metadata": {
            "tags": [],
            "needs_background": "light"
          }
        }
      ]
    },
    {
      "cell_type": "code",
      "metadata": {
        "colab": {
          "base_uri": "https://localhost:8080/"
        },
        "id": "qA-P1WUYzkeA",
        "outputId": "5a2e18a2-8498-4f8a-f129-759ebc58552f"
      },
      "source": [
        "print(\"POSITIVE-NEGATIVE SENTIMENT\")\r\n",
        "print(df[(df['posneg'] == 0)].count)\r\n",
        "print(\"MORAL-EMOTIONAL SENTIMENT\")\r\n",
        "print(df[(df['moral-emo'] == 0)].count)\r\n",
        "print(\"OUTRAGE AND FEAR SENTIMENT\")\r\n",
        "print(df[(df['outrage'] == 0) & (df['fear'] == 0)].count)"
      ],
      "execution_count": null,
      "outputs": [
        {
          "output_type": "stream",
          "text": [
            "POSITIVE-NEGATIVE SENTIMENT\n",
            "<bound method DataFrame.count of        Unnamed: 0  Unnamed: 0.1    senator  ...   outrage      fear  posneg\n",
            "1               1             1  alfranken  ...  0.000000  0.166667     0.0\n",
            "2               2             2  alfranken  ...  0.000000  0.000000     0.0\n",
            "3               3             3  alfranken  ...  0.000000  0.000000     0.0\n",
            "4               4             4  alfranken  ...  0.000000  0.000000     0.0\n",
            "6               6             6  alfranken  ...  0.000000  0.000000     0.0\n",
            "...           ...           ...        ...  ...       ...       ...     ...\n",
            "99741       99741         99741   timkaine  ...  0.000000  0.000000     0.0\n",
            "99743       99743         99743   timkaine  ...  0.000000  0.000000     0.0\n",
            "99744       99744         99744   timkaine  ...  0.222222  0.166667     0.0\n",
            "99747       99747         99747   timkaine  ...  0.285714  0.214286     0.0\n",
            "99748       99748         99748   timkaine  ...  0.066667  0.133333     0.0\n",
            "\n",
            "[28557 rows x 16 columns]>\n",
            "MORAL-EMOTIONAL SENTIMENT\n",
            "<bound method DataFrame.count of        Unnamed: 0  Unnamed: 0.1    senator  ...   outrage      fear    posneg\n",
            "0               0             0  alfranken  ...  0.000000  0.000000  0.153846\n",
            "1               1             1  alfranken  ...  0.000000  0.166667  0.000000\n",
            "2               2             2  alfranken  ...  0.000000  0.000000  0.000000\n",
            "3               3             3  alfranken  ...  0.000000  0.000000  0.000000\n",
            "4               4             4  alfranken  ...  0.000000  0.000000  0.000000\n",
            "...           ...           ...        ...  ...       ...       ...       ...\n",
            "99744       99744         99744   timkaine  ...  0.222222  0.166667  0.000000\n",
            "99745       99745         99745   timkaine  ...  0.200000  0.200000 -0.066667\n",
            "99746       99746         99746   timkaine  ...  0.000000  0.000000  0.090909\n",
            "99747       99747         99747   timkaine  ...  0.285714  0.214286  0.000000\n",
            "99749       99749         99749   timkaine  ...  0.062500  0.312500 -0.062500\n",
            "\n",
            "[78346 rows x 16 columns]>\n",
            "OUTRAGE AND FEAR SENTIMENT\n",
            "<bound method DataFrame.count of        Unnamed: 0  Unnamed: 0.1    senator  ... outrage  fear    posneg\n",
            "0               0             0  alfranken  ...     0.0   0.0  0.153846\n",
            "2               2             2  alfranken  ...     0.0   0.0  0.000000\n",
            "3               3             3  alfranken  ...     0.0   0.0  0.000000\n",
            "4               4             4  alfranken  ...     0.0   0.0  0.000000\n",
            "6               6             6  alfranken  ...     0.0   0.0  0.000000\n",
            "...           ...           ...        ...  ...     ...   ...       ...\n",
            "99737       99737         99737   timkaine  ...     0.0   0.0  0.000000\n",
            "99740       99740         99740   timkaine  ...     0.0   0.0  0.142857\n",
            "99741       99741         99741   timkaine  ...     0.0   0.0  0.000000\n",
            "99743       99743         99743   timkaine  ...     0.0   0.0  0.000000\n",
            "99746       99746         99746   timkaine  ...     0.0   0.0  0.090909\n",
            "\n",
            "[57936 rows x 16 columns]>\n"
          ],
          "name": "stdout"
        }
      ]
    },
    {
      "cell_type": "code",
      "metadata": {
        "colab": {
          "base_uri": "https://localhost:8080/",
          "height": 317
        },
        "id": "P88LY8wV3nt9",
        "outputId": "3ea3286e-a0d8-41ee-8860-32519ab85f37"
      },
      "source": [
        "df.hist(column='retweet_count')"
      ],
      "execution_count": null,
      "outputs": [
        {
          "output_type": "execute_result",
          "data": {
            "text/plain": [
              "array([[<matplotlib.axes._subplots.AxesSubplot object at 0x7f6a578efeb8>]],\n",
              "      dtype=object)"
            ]
          },
          "metadata": {
            "tags": []
          },
          "execution_count": 8
        },
        {
          "output_type": "display_data",
          "data": {
            "image/png": "[encoded data removed]",
            "text/plain": [
              "<Figure size 432x288 with 1 Axes>"
            ]
          },
          "metadata": {
            "tags": [],
            "needs_background": "light"
          }
        }
      ]
    },
    {
      "cell_type": "code",
      "metadata": {
        "colab": {
          "base_uri": "https://localhost:8080/",
          "height": 328
        },
        "id": "R1DAlKmx2Sx3",
        "outputId": "5c9b11fd-709b-47ec-9c99-cfcc893b5223"
      },
      "source": [
        "df.hist(column='followers')"
      ],
      "execution_count": null,
      "outputs": [
        {
          "output_type": "execute_result",
          "data": {
            "text/plain": [
              "array([[<matplotlib.axes._subplots.AxesSubplot object at 0x7fbb200d9588>]],\n",
              "      dtype=object)"
            ]
          },
          "metadata": {
            "tags": []
          },
          "execution_count": 29
        },
        {
          "output_type": "display_data",
          "data": {
            "image/png": "[encoded data removed]",
            "text/plain": [
              "<Figure size 432x288 with 1 Axes>"
            ]
          },
          "metadata": {
            "tags": [],
            "needs_background": "light"
          }
        }
      ]
    },
    {
      "cell_type": "code",
      "metadata": {
        "colab": {
          "base_uri": "https://localhost:8080/",
          "height": 390
        },
        "id": "Vdw9fIkW3Rjr",
        "outputId": "caba99f6-ed37-40f8-fe32-c28ff335c8c6"
      },
      "source": [
        "df1 = df[['retweet_count', 'retweetable', 'posneg', 'moral-emo', 'fear', 'outrage', 'dwscore', 'url','media', 'gender', 'followers']].copy()\r\n",
        "des = df1.describe()\r\n",
        "des = des.transpose()\r\n",
        "des"
      ],
      "execution_count": null,
      "outputs": [
        {
          "output_type": "execute_result",
          "data": {
            "text/html": [
              "<div>\n",
              "<style scoped>\n",
              "    .dataframe tbody tr th:only-of-type {\n",
              "        vertical-align: middle;\n",
              "    }\n",
              "\n",
              "    .dataframe tbody tr th {\n",
              "        vertical-align: top;\n",
              "    }\n",
              "\n",
              "    .dataframe thead th {\n",
              "        text-align: right;\n",
              "    }\n",
              "</style>\n",
              "<table border=\"1\" class=\"dataframe\">\n",
              "  <thead>\n",
              "    <tr style=\"text-align: right;\">\n",
              "      <th></th>\n",
              "      <th>count</th>\n",
              "      <th>mean</th>\n",
              "      <th>std</th>\n",
              "      <th>min</th>\n",
              "      <th>25%</th>\n",
              "      <th>50%</th>\n",
              "      <th>75%</th>\n",
              "      <th>max</th>\n",
              "    </tr>\n",
              "  </thead>\n",
              "  <tbody>\n",
              "    <tr>\n",
              "      <th>retweet_count</th>\n",
              "      <td>99750.0</td>\n",
              "      <td>103.775639</td>\n",
              "      <td>577.659591</td>\n",
              "      <td>0.000</td>\n",
              "      <td>2.000</td>\n",
              "      <td>6.000000</td>\n",
              "      <td>17.000000</td>\n",
              "      <td>51554.000</td>\n",
              "    </tr>\n",
              "    <tr>\n",
              "      <th>retweetable</th>\n",
              "      <td>99750.0</td>\n",
              "      <td>0.503599</td>\n",
              "      <td>0.499990</td>\n",
              "      <td>0.000</td>\n",
              "      <td>0.000</td>\n",
              "      <td>1.000000</td>\n",
              "      <td>1.000000</td>\n",
              "      <td>1.000</td>\n",
              "    </tr>\n",
              "    <tr>\n",
              "      <th>posneg</th>\n",
              "      <td>99750.0</td>\n",
              "      <td>0.053447</td>\n",
              "      <td>0.120166</td>\n",
              "      <td>-1.000</td>\n",
              "      <td>0.000</td>\n",
              "      <td>0.058824</td>\n",
              "      <td>0.125000</td>\n",
              "      <td>1.000</td>\n",
              "    </tr>\n",
              "    <tr>\n",
              "      <th>moral-emo</th>\n",
              "      <td>99750.0</td>\n",
              "      <td>0.018793</td>\n",
              "      <td>0.040833</td>\n",
              "      <td>0.000</td>\n",
              "      <td>0.000</td>\n",
              "      <td>0.000000</td>\n",
              "      <td>0.000000</td>\n",
              "      <td>1.000</td>\n",
              "    </tr>\n",
              "    <tr>\n",
              "      <th>fear</th>\n",
              "      <td>99750.0</td>\n",
              "      <td>0.035475</td>\n",
              "      <td>0.059976</td>\n",
              "      <td>0.000</td>\n",
              "      <td>0.000</td>\n",
              "      <td>0.000000</td>\n",
              "      <td>0.066667</td>\n",
              "      <td>1.000</td>\n",
              "    </tr>\n",
              "    <tr>\n",
              "      <th>outrage</th>\n",
              "      <td>99750.0</td>\n",
              "      <td>0.039429</td>\n",
              "      <td>0.075141</td>\n",
              "      <td>0.000</td>\n",
              "      <td>0.000</td>\n",
              "      <td>0.000000</td>\n",
              "      <td>0.062500</td>\n",
              "      <td>1.000</td>\n",
              "    </tr>\n",
              "    <tr>\n",
              "      <th>dwscore</th>\n",
              "      <td>99750.0</td>\n",
              "      <td>0.084520</td>\n",
              "      <td>0.452687</td>\n",
              "      <td>-0.744</td>\n",
              "      <td>-0.341</td>\n",
              "      <td>0.258000</td>\n",
              "      <td>0.452000</td>\n",
              "      <td>0.919</td>\n",
              "    </tr>\n",
              "    <tr>\n",
              "      <th>url</th>\n",
              "      <td>99750.0</td>\n",
              "      <td>0.443328</td>\n",
              "      <td>0.496780</td>\n",
              "      <td>0.000</td>\n",
              "      <td>0.000</td>\n",
              "      <td>0.000000</td>\n",
              "      <td>1.000000</td>\n",
              "      <td>1.000</td>\n",
              "    </tr>\n",
              "    <tr>\n",
              "      <th>media</th>\n",
              "      <td>99750.0</td>\n",
              "      <td>0.220190</td>\n",
              "      <td>0.414377</td>\n",
              "      <td>0.000</td>\n",
              "      <td>0.000</td>\n",
              "      <td>0.000000</td>\n",
              "      <td>0.000000</td>\n",
              "      <td>1.000</td>\n",
              "    </tr>\n",
              "    <tr>\n",
              "      <th>gender</th>\n",
              "      <td>99750.0</td>\n",
              "      <td>0.787699</td>\n",
              "      <td>0.408939</td>\n",
              "      <td>0.000</td>\n",
              "      <td>1.000</td>\n",
              "      <td>1.000000</td>\n",
              "      <td>1.000000</td>\n",
              "      <td>1.000</td>\n",
              "    </tr>\n",
              "    <tr>\n",
              "      <th>followers</th>\n",
              "      <td>99750.0</td>\n",
              "      <td>338362.440010</td>\n",
              "      <td>664006.841079</td>\n",
              "      <td>3519.000</td>\n",
              "      <td>24152.000</td>\n",
              "      <td>42880.000000</td>\n",
              "      <td>116875.000000</td>\n",
              "      <td>2587562.386</td>\n",
              "    </tr>\n",
              "  </tbody>\n",
              "</table>\n",
              "</div>"
            ],
            "text/plain": [
              "                 count           mean  ...            75%          max\n",
              "retweet_count  99750.0     103.775639  ...      17.000000    51554.000\n",
              "retweetable    99750.0       0.503599  ...       1.000000        1.000\n",
              "posneg         99750.0       0.053447  ...       0.125000        1.000\n",
              "moral-emo      99750.0       0.018793  ...       0.000000        1.000\n",
              "fear           99750.0       0.035475  ...       0.066667        1.000\n",
              "outrage        99750.0       0.039429  ...       0.062500        1.000\n",
              "dwscore        99750.0       0.084520  ...       0.452000        0.919\n",
              "url            99750.0       0.443328  ...       1.000000        1.000\n",
              "media          99750.0       0.220190  ...       0.000000        1.000\n",
              "gender         99750.0       0.787699  ...       1.000000        1.000\n",
              "followers      99750.0  338362.440010  ...  116875.000000  2587562.386\n",
              "\n",
              "[11 rows x 8 columns]"
            ]
          },
          "metadata": {
            "tags": []
          },
          "execution_count": 9
        }
      ]
    },
    {
      "cell_type": "markdown",
      "metadata": {
        "id": "_uUjFh59xlv-"
      },
      "source": [
        "## ML models with pos/neg"
      ]
    },
    {
      "cell_type": "code",
      "metadata": {
        "id": "tpv_-SxZvYB7"
      },
      "source": [
        "# train test split\r\n",
        "X = df[['url', 'media', 'followers', 'dwscore', 'gender', 'posneg']]\r\n",
        "y = df['retweetable']\r\n",
        "\r\n",
        "X_train, X_test, y_train, y_test = train_test_split(X, y, random_state=42)\r\n",
        "scaler = StandardScaler().fit(X_train)\r\n",
        "X_train_scaled = scaler.transform(X_train)\r\n",
        "X_test_scaled = scaler.transform(X_test)"
      ],
      "execution_count": null,
      "outputs": []
    },
    {
      "cell_type": "markdown",
      "metadata": {
        "id": "aolV5KGv5bb_"
      },
      "source": [
        "* Penalizaed Logistic Regression Model w/ L2 Penalty"
      ]
    },
    {
      "cell_type": "code",
      "metadata": {
        "colab": {
          "base_uri": "https://localhost:8080/"
        },
        "id": "9_0k6Irm5Z2X",
        "outputId": "81801eef-6bf9-44ac-af35-1544598ecda1"
      },
      "source": [
        "logreg_pipe1 = make_pipeline(LogisticRegression(penalty='l2'))\r\n",
        "logreg_param_grid1 = {'logisticregression__C': np.linspace(1, 100, 100)}\r\n",
        "logreg_grid1 = GridSearchCV(logreg_pipe1, logreg_param_grid1, cv=kfold, scoring='roc_auc').fit(X_train_scaled, y_train)\r\n",
        "\r\n",
        "print(\"LOGISTIC REGRESSION W/ L2 Penalty (SCALED DATA)\")\r\n",
        "print(\"Best Parameter: {}\".format(logreg_grid1.best_params_))\r\n",
        "print(\"Test set Score: {:.4f}\".format(logreg_grid1.score(X_test_scaled, y_test)))\r\n",
        "\r\n",
        "y_pred = np.array(logreg_grid1.predict(X_test_scaled))\r\n",
        "print(classification_report(y_test, y_pred))"
      ],
      "execution_count": null,
      "outputs": [
        {
          "output_type": "stream",
          "text": [
            "LOGISTIC REGRESSION W/ L2 Penalty (SCALED DATA)\n",
            "Best Parameter: {'logisticregression__C': 3.0}\n",
            "Test set Score: 0.6996\n",
            "              precision    recall  f1-score   support\n",
            "\n",
            "           0       0.61      0.85      0.71     12387\n",
            "           1       0.75      0.45      0.57     12551\n",
            "\n",
            "    accuracy                           0.65     24938\n",
            "   macro avg       0.68      0.65      0.64     24938\n",
            "weighted avg       0.68      0.65      0.64     24938\n",
            "\n"
          ],
          "name": "stdout"
        }
      ]
    },
    {
      "cell_type": "markdown",
      "metadata": {
        "id": "GHkPCsRqqUB_"
      },
      "source": [
        "* KNN Classifier"
      ]
    },
    {
      "cell_type": "code",
      "metadata": {
        "colab": {
          "base_uri": "https://localhost:8080/"
        },
        "id": "Eokl_OfTqTYI",
        "outputId": "a2e90a82-1006-41c2-c6d7-7ab643415cca"
      },
      "source": [
        "knn_pipe1 = make_pipeline(KNeighborsClassifier())\r\n",
        "knn_param_grid1 = {'kneighborsclassifier__n_neighbors': range(1, 30)}\r\n",
        "knn_grid1 = GridSearchCV(knn_pipe1, knn_param_grid1, cv=kfold, scoring='roc_auc').fit(X_train_scaled, y_train)\r\n",
        "\r\n",
        "print(\"KNN CLASSIFER (SCALED DATA)\")\r\n",
        "print(\"Best Parameter: {}\".format(knn_grid1.best_params_))\r\n",
        "print(\"Test set Score: {:.4f}\".format(knn_grid1.score(X_test_scaled, y_test)))\r\n",
        "\r\n",
        "y_pred = np.array(knn_grid1.predict(X_test_scaled))\r\n",
        "print(classification_report(y_test, y_pred))"
      ],
      "execution_count": null,
      "outputs": [
        {
          "output_type": "stream",
          "text": [
            "KNN CLASSIFER (SCALED DATA)\n",
            "Best Parameter: {'kneighborsclassifier__n_neighbors': 29}\n",
            "Test set Score: 0.8113\n",
            "              precision    recall  f1-score   support\n",
            "\n",
            "           0       0.71      0.79      0.74     12387\n",
            "           1       0.76      0.68      0.72     12551\n",
            "\n",
            "    accuracy                           0.73     24938\n",
            "   macro avg       0.73      0.73      0.73     24938\n",
            "weighted avg       0.73      0.73      0.73     24938\n",
            "\n"
          ],
          "name": "stdout"
        }
      ]
    },
    {
      "cell_type": "markdown",
      "metadata": {
        "id": "Z8BE_Rt09Xmr"
      },
      "source": [
        "* Random Forest Classifier"
      ]
    },
    {
      "cell_type": "code",
      "metadata": {
        "id": "qcKRxP2E9W8e",
        "colab": {
          "base_uri": "https://localhost:8080/"
        },
        "outputId": "4aff4a65-c6ae-4e35-9429-fca32038273d"
      },
      "source": [
        "rfc_pipe1 = make_pipeline(RandomForestClassifier(random_state=42))\r\n",
        "rfc_param_grid1 = {'randomforestclassifier__n_estimators': [100, 500, 1000],\r\n",
        "                  'randomforestclassifier__max_depth': [6, 7, 8]}\r\n",
        "rfc_grid1 = GridSearchCV(rfc_pipe1, rfc_param_grid1, cv=kfold, scoring='roc_auc').fit(X_train_scaled, y_train)\r\n",
        "\r\n",
        "print(\"RANDOM FOREST CLASSIFIER\")\r\n",
        "print(\"Best Parameter: {}\".format(rfc_grid1.best_params_))\r\n",
        "print(\"Test set Score: {:.4f}\".format(rfc_grid1.score(X_test_scaled, y_test)))\r\n",
        "\r\n",
        "y_pred = np.array(rfc_grid1.predict(X_test_scaled))\r\n",
        "print(classification_report(y_test, y_pred))"
      ],
      "execution_count": null,
      "outputs": [
        {
          "output_type": "stream",
          "text": [
            "RANDOM FOREST CLASSIFIER\n",
            "Best Parameter: {'randomforestclassifier__max_depth': 8, 'randomforestclassifier__n_estimators': 1000}\n",
            "Test set Score: 0.8310\n",
            "              precision    recall  f1-score   support\n",
            "\n",
            "           0       0.73      0.80      0.76     12387\n",
            "           1       0.78      0.71      0.74     12551\n",
            "\n",
            "    accuracy                           0.75     24938\n",
            "   macro avg       0.75      0.75      0.75     24938\n",
            "weighted avg       0.75      0.75      0.75     24938\n",
            "\n"
          ],
          "name": "stdout"
        }
      ]
    },
    {
      "cell_type": "markdown",
      "metadata": {
        "id": "UeE9N88WG6x8"
      },
      "source": [
        "* XGBoost Model"
      ]
    },
    {
      "cell_type": "code",
      "metadata": {
        "id": "5Hu0ptVvHRzE",
        "colab": {
          "base_uri": "https://localhost:8080/"
        },
        "outputId": "4c4e4f6d-1713-4d1d-9421-24d3ecd03ac0"
      },
      "source": [
        "xgb_pipe1 = make_pipeline(xgb.XGBClassifier())\r\n",
        "xgb_param_grid1 = {'xgbclassifier__max_depth': [6, 7, 8]}\r\n",
        "xgb_grid1 = GridSearchCV(xgb_pipe1, xgb_param_grid1, cv=kfold, scoring='roc_auc').fit(X_train_scaled, y_train)\r\n",
        "\r\n",
        "print(\"XGBOOST CLASSIFIER\")\r\n",
        "print(\"Best Parameter: {}\".format(xgb_grid1.best_params_))\r\n",
        "print(\"Test set Score: {:.4f}\".format(xgb_grid1.score(X_test_scaled, y_test)))\r\n",
        "\r\n",
        "y_pred = np.array(xgb_grid1.predict(X_test_scaled))\r\n",
        "print(classification_report(y_test, y_pred))\r\n"
      ],
      "execution_count": null,
      "outputs": [
        {
          "output_type": "stream",
          "text": [
            "XGBOOST CLASSIFIER\n",
            "Best Parameter: {'xgbclassifier__max_depth': 7}\n",
            "Test set Score: 0.8376\n",
            "              precision    recall  f1-score   support\n",
            "\n",
            "           0       0.73      0.80      0.77     12387\n",
            "           1       0.79      0.71      0.75     12551\n",
            "\n",
            "    accuracy                           0.76     24938\n",
            "   macro avg       0.76      0.76      0.76     24938\n",
            "weighted avg       0.76      0.76      0.76     24938\n",
            "\n"
          ],
          "name": "stdout"
        }
      ]
    },
    {
      "cell_type": "markdown",
      "metadata": {
        "id": "wQoaBARdTUqh"
      },
      "source": [
        "### Create Feature Importance Plots for 2 Best Models\r\n",
        "\r\n"
      ]
    },
    {
      "cell_type": "code",
      "metadata": {
        "id": "J9fWbOUWS92K"
      },
      "source": [
        "def plot_feature_importance(importance, names):\r\n",
        "  #Create arrays from feature importance and feature names\r\n",
        "  feature_importance = np.array(importance)\r\n",
        "  feature_names = np.array(names)\r\n",
        "\r\n",
        "  #Create a DataFrame using a Dictionary\r\n",
        "  data={'feature_names':feature_names,'feature_importance':feature_importance}\r\n",
        "  fi_df = pd.DataFrame(data)\r\n",
        "\r\n",
        "  #Sort the DataFrame in order decreasing feature importance\r\n",
        "  fi_df.sort_values(by=['feature_importance'], ascending=False,inplace=True)\r\n",
        "  print(fi_df)\r\n",
        "\r\n",
        "  #Define size of bar plot\r\n",
        "  plt.figure(figsize=(10,8))\r\n",
        "  #Plot Searborn bar chart\r\n",
        "  ax = sns.barplot(x=fi_df['feature_importance'], y=fi_df['feature_names'], palette=\"Blues_r\")\r\n",
        "\r\n",
        "  for p in ax.patches:\r\n",
        "    ax.annotate(\"%.4f\" % p.get_width(), xy=(p.get_width(), p.get_y()+p.get_height()/2),\r\n",
        "            xytext=(5, 0), textcoords='offset points', ha=\"left\", va=\"center\")\r\n",
        "  #Add chart labels\r\n",
        "  plt.xlabel('FEATURE IMPORTANCE')\r\n",
        "  plt.ylabel('FEATURE NAMES')"
      ],
      "execution_count": null,
      "outputs": []
    },
    {
      "cell_type": "code",
      "metadata": {
        "colab": {
          "base_uri": "https://localhost:8080/",
          "height": 643
        },
        "id": "RRceQDAITLyx",
        "outputId": "ef903743-0225-4de3-9ad6-6b6e064b2917"
      },
      "source": [
        "# A feature importance plot for a XG Boost model\r\n",
        "# fitting the model with best parameters\r\n",
        "xgb1 = xgb.XGBClassifier(max_depth=7, importance_type='weight')\r\n",
        "xgb1.fit(X_train_scaled, y_train)\r\n",
        "print(xgb1.feature_importances_)\r\n",
        "plot_feature_importance(xgb1.feature_importances_, X.columns)"
      ],
      "execution_count": null,
      "outputs": [
        {
          "output_type": "stream",
          "text": [
            "[0.07134619 0.06623826 0.24270885 0.18668644 0.01581809 0.41720217]\n",
            "  feature_names  feature_importance\n",
            "5        posneg            0.417202\n",
            "2     followers            0.242709\n",
            "3       dwscore            0.186686\n",
            "0           url            0.071346\n",
            "1         media            0.066238\n",
            "4        gender            0.015818\n"
          ],
          "name": "stdout"
        },
        {
          "output_type": "display_data",
          "data": {
            "image/png": "[encoded data removed]",
            "text/plain": [
              "<Figure size 720x576 with 1 Axes>"
            ]
          },
          "metadata": {
            "tags": [],
            "needs_background": "light"
          }
        }
      ]
    },
    {
      "cell_type": "code",
      "metadata": {
        "colab": {
          "base_uri": "https://localhost:8080/",
          "height": 388
        },
        "id": "AcE_hxFNV0PU",
        "outputId": "43ae9bd1-a5c2-4a73-80ec-678f5ea8af18"
      },
      "source": [
        "d_train = xgb.DMatrix(X_train_scaled, label=y_train)\r\n",
        "d_test = xgb.DMatrix(X_test_scaled, label=y_test)\r\n",
        "params = {\r\n",
        "    \"max_depth\" : 7,\r\n",
        "    \"eval_metric\": \"auc\"\r\n",
        "}\r\n",
        "model1 = xgb.train(params, d_train, 5000, evals = [(d_test, \"test\")], verbose_eval=100, early_stopping_rounds=20)\r\n",
        "\r\n",
        "model1.feature_names = ['url', 'media', 'followers', 'dwscore', 'gender', 'posneg']\r\n",
        "\r\n",
        "xgb.plot_importance(model1, height=0.4, title=None)\r\n",
        "plt.figure(figsize=(10,8))\r\n",
        "plt.show()"
      ],
      "execution_count": null,
      "outputs": [
        {
          "output_type": "stream",
          "text": [
            "[0]\ttest-auc:0.829843\n",
            "Will train until test-auc hasn't improved in 20 rounds.\n",
            "Stopping. Best iteration:\n",
            "[17]\ttest-auc:0.837359\n",
            "\n"
          ],
          "name": "stdout"
        },
        {
          "output_type": "display_data",
          "data": {
            "image/png": "[encoded data removed]",
            "text/plain": [
              "<Figure size 432x288 with 1 Axes>"
            ]
          },
          "metadata": {
            "tags": [],
            "needs_background": "light"
          }
        },
        {
          "output_type": "display_data",
          "data": {
            "text/plain": [
              "<Figure size 720x576 with 0 Axes>"
            ]
          },
          "metadata": {
            "tags": []
          }
        }
      ]
    },
    {
      "cell_type": "code",
      "metadata": {
        "colab": {
          "base_uri": "https://localhost:8080/",
          "height": 368
        },
        "id": "Jl9eGKniWF1C",
        "outputId": "5b17ee64-469d-4e81-e876-a705f87e2408"
      },
      "source": [
        "explainer = shap.TreeExplainer(model1)\r\n",
        "shap_values = explainer.shap_values(X)\r\n",
        "\r\n",
        "shap.summary_plot(shap_values, X, plot_type=\"bar\")"
      ],
      "execution_count": null,
      "outputs": [
        {
          "output_type": "stream",
          "text": [
            "[0]\ttest-auc:0.829843\n",
            "Will train until test-auc hasn't improved in 20 rounds.\n",
            "Stopping. Best iteration:\n",
            "[17]\ttest-auc:0.837359\n",
            "\n"
          ],
          "name": "stdout"
        },
        {
          "output_type": "display_data",
          "data": {
            "image/png": "[encoded data removed]",
            "text/plain": [
              "<Figure size 576x280.8 with 1 Axes>"
            ]
          },
          "metadata": {
            "tags": [],
            "needs_background": "light"
          }
        }
      ]
    },
    {
      "cell_type": "markdown",
      "metadata": {
        "id": "_cLeeLUDxzCS"
      },
      "source": [
        "## ML models with moral-emotions"
      ]
    },
    {
      "cell_type": "code",
      "metadata": {
        "id": "G8x91-TOx5a3"
      },
      "source": [
        "# train test split\r\n",
        "X = df[['url', 'media', 'followers', 'dwscore', 'gender', 'moral-emo']]\r\n",
        "y = df['retweetable']\r\n",
        "\r\n",
        "X_train, X_test, y_train, y_test = train_test_split(X, y, random_state=42)\r\n",
        "scaler = StandardScaler().fit(X_train)\r\n",
        "X_train_scaled = scaler.transform(X_train)\r\n",
        "X_test_scaled = scaler.transform(X_test)"
      ],
      "execution_count": null,
      "outputs": []
    },
    {
      "cell_type": "markdown",
      "metadata": {
        "id": "Y2gA8wic0S4T"
      },
      "source": [
        "* Penalizaed Logistic Regression Model w/ L2 penalty"
      ]
    },
    {
      "cell_type": "code",
      "metadata": {
        "colab": {
          "base_uri": "https://localhost:8080/"
        },
        "id": "FgwHTFio0LIj",
        "outputId": "89b072ab-7d4d-435c-c5f6-222b8e07367e"
      },
      "source": [
        "logreg_pipe2 = make_pipeline(LogisticRegression(penalty='l2'))\r\n",
        "logreg_param_grid2 = {'logisticregression__C': np.linspace(1, 100, 100)}\r\n",
        "logreg_grid2 = GridSearchCV(logreg_pipe2, logreg_param_grid2, cv=kfold, scoring='roc_auc').fit(X_train_scaled, y_train)\r\n",
        "\r\n",
        "print(\"LOGISTIC REGRESSION W/ L2 Penalty (SCALED DATA)\")\r\n",
        "print(\"Best Parameter: {}\".format(logreg_grid2.best_params_))\r\n",
        "print(\"Test set Score: {:.4f}\".format(logreg_grid2.score(X_test_scaled, y_test)))\r\n",
        "\r\n",
        "y_pred = np.array(logreg_grid2.predict(X_test_scaled))\r\n",
        "print(classification_report(y_test, y_pred))"
      ],
      "execution_count": null,
      "outputs": [
        {
          "output_type": "stream",
          "text": [
            "LOGISTIC REGRESSION W/ L2 Penalty (SCALED DATA)\n",
            "Best Parameter: {'logisticregression__C': 17.0}\n",
            "Test set Score: 0.7071\n",
            "              precision    recall  f1-score   support\n",
            "\n",
            "           0       0.61      0.85      0.71     12387\n",
            "           1       0.76      0.46      0.57     12551\n",
            "\n",
            "    accuracy                           0.65     24938\n",
            "   macro avg       0.68      0.65      0.64     24938\n",
            "weighted avg       0.68      0.65      0.64     24938\n",
            "\n"
          ],
          "name": "stdout"
        }
      ]
    },
    {
      "cell_type": "markdown",
      "metadata": {
        "id": "p2Y9mA1f1dFD"
      },
      "source": [
        "* KNN Classifier"
      ]
    },
    {
      "cell_type": "code",
      "metadata": {
        "colab": {
          "base_uri": "https://localhost:8080/"
        },
        "id": "vVw5K2dj0LMp",
        "outputId": "1eb85e78-0c7d-4f9c-8410-f440f8578892"
      },
      "source": [
        "knn_pipe2 = make_pipeline(KNeighborsClassifier())\r\n",
        "knn_param_grid2 = {'kneighborsclassifier__n_neighbors': range(1, 30)}\r\n",
        "knn_grid2 = GridSearchCV(knn_pipe2, knn_param_grid2, cv=kfold, scoring='roc_auc').fit(X_train_scaled, y_train)\r\n",
        "\r\n",
        "print(\"KNN CLASSIFER (SCALED DATA)\")\r\n",
        "print(\"Best Parameter: {}\".format(knn_grid2.best_params_))\r\n",
        "print(\"Test set Score: {:.4f}\".format(knn_grid2.score(X_test_scaled, y_test)))\r\n",
        "\r\n",
        "y_pred = np.array(knn_grid2.predict(X_test_scaled))\r\n",
        "print(classification_report(y_test, y_pred))"
      ],
      "execution_count": null,
      "outputs": [
        {
          "output_type": "stream",
          "text": [
            "KNN CLASSIFER (SCALED DATA)\n",
            "Best Parameter: {'kneighborsclassifier__n_neighbors': 29}\n",
            "Test set Score: 0.8183\n",
            "              precision    recall  f1-score   support\n",
            "\n",
            "           0       0.72      0.77      0.74     12387\n",
            "           1       0.76      0.70      0.73     12551\n",
            "\n",
            "    accuracy                           0.74     24938\n",
            "   macro avg       0.74      0.74      0.74     24938\n",
            "weighted avg       0.74      0.74      0.74     24938\n",
            "\n"
          ],
          "name": "stdout"
        }
      ]
    },
    {
      "cell_type": "markdown",
      "metadata": {
        "id": "hVq5iznC1nzr"
      },
      "source": [
        "* Random Forest Classifier"
      ]
    },
    {
      "cell_type": "code",
      "metadata": {
        "colab": {
          "base_uri": "https://localhost:8080/"
        },
        "id": "OmfJxYFj0LQA",
        "outputId": "198e33e6-35c4-42d4-ed6a-1a7333796a67"
      },
      "source": [
        "rfc_pipe2 = make_pipeline(RandomForestClassifier(random_state=42))\r\n",
        "rfc_param_grid2 = {'randomforestclassifier__n_estimators': [100, 500, 1000],\r\n",
        "                  'randomforestclassifier__max_depth': [6, 7, 8]}\r\n",
        "rfc_grid2 = GridSearchCV(rfc_pipe2, rfc_param_grid2, cv=kfold, scoring='roc_auc').fit(X_train_scaled, y_train)\r\n",
        "\r\n",
        "print(\"RANDOM FOREST CLASSIFIER\")\r\n",
        "print(\"Best Parameter: {}\".format(rfc_grid2.best_params_))\r\n",
        "print(\"Test set Score: {:.4f}\".format(rfc_grid2.score(X_test_scaled, y_test)))\r\n",
        "\r\n",
        "y_pred = np.array(rfc_grid2.predict(X_test_scaled))\r\n",
        "print(classification_report(y_test, y_pred))"
      ],
      "execution_count": null,
      "outputs": [
        {
          "output_type": "stream",
          "text": [
            "RANDOM FOREST CLASSIFIER\n",
            "Best Parameter: {'randomforestclassifier__max_depth': 8, 'randomforestclassifier__n_estimators': 1000}\n",
            "Test set Score: 0.8285\n",
            "              precision    recall  f1-score   support\n",
            "\n",
            "           0       0.73      0.79      0.76     12387\n",
            "           1       0.77      0.71      0.74     12551\n",
            "\n",
            "    accuracy                           0.75     24938\n",
            "   macro avg       0.75      0.75      0.75     24938\n",
            "weighted avg       0.75      0.75      0.75     24938\n",
            "\n"
          ],
          "name": "stdout"
        }
      ]
    },
    {
      "cell_type": "markdown",
      "metadata": {
        "id": "KvJw8NzW4_mE"
      },
      "source": [
        "* XGBoost Model"
      ]
    },
    {
      "cell_type": "code",
      "metadata": {
        "colab": {
          "base_uri": "https://localhost:8080/"
        },
        "id": "rQrayXJZ4_2d",
        "outputId": "b9a7e62d-0c1a-4394-aad9-508aaa400104"
      },
      "source": [
        "xgb_pipe2 = make_pipeline(xgb.XGBClassifier())\r\n",
        "xgb_param_grid2 = {'xgbclassifier__max_depth': [6, 7, 8]}\r\n",
        "xgb_grid2 = GridSearchCV(xgb_pipe2, xgb_param_grid2, cv=kfold, scoring='roc_auc').fit(X_train_scaled, y_train)\r\n",
        "\r\n",
        "print(\"XGBOOST CLASSIFIER\")\r\n",
        "print(\"Best Parameter: {}\".format(xgb_grid2.best_params_))\r\n",
        "print(\"Test set Score: {:.4f}\".format(xgb_grid2.score(X_test_scaled, y_test)))\r\n",
        "\r\n",
        "y_pred = np.array(xgb_grid2.predict(X_test_scaled))\r\n",
        "print(classification_report(y_test, y_pred))"
      ],
      "execution_count": null,
      "outputs": [
        {
          "output_type": "stream",
          "text": [
            "XGBOOST CLASSIFIER\n",
            "Best Parameter: {'xgbclassifier__max_depth': 7}\n",
            "Test set Score: 0.8343\n",
            "              precision    recall  f1-score   support\n",
            "\n",
            "           0       0.73      0.81      0.77     12387\n",
            "           1       0.79      0.70      0.74     12551\n",
            "\n",
            "    accuracy                           0.75     24938\n",
            "   macro avg       0.76      0.75      0.75     24938\n",
            "weighted avg       0.76      0.75      0.75     24938\n",
            "\n"
          ],
          "name": "stdout"
        }
      ]
    },
    {
      "cell_type": "markdown",
      "metadata": {
        "id": "uWqmdBlTsTDc"
      },
      "source": [
        "### Create a Feature Importance Plot for the Best Model"
      ]
    },
    {
      "cell_type": "code",
      "metadata": {
        "colab": {
          "base_uri": "https://localhost:8080/",
          "height": 625
        },
        "id": "6JSr4p9IbV9J",
        "outputId": "97db4ec2-3afb-42f6-d6de-a922540314f7"
      },
      "source": [
        "# A feature importance plot for a XG Boost model\r\n",
        "# fitting the model with best parameters\r\n",
        "xgb2 = xgb.XGBClassifier(max_depth=7, importance_type='weight')\r\n",
        "xgb2.fit(X_train_scaled, y_train)\r\n",
        "\r\n",
        "plot_feature_importance(xgb2.feature_importances_, X.columns)"
      ],
      "execution_count": null,
      "outputs": [
        {
          "output_type": "stream",
          "text": [
            "  feature_names  feature_importance\n",
            "5     moral-emo            0.310572\n",
            "2     followers            0.277840\n",
            "3       dwscore            0.196576\n",
            "0           url            0.102709\n",
            "1         media            0.097818\n",
            "4        gender            0.014485\n"
          ],
          "name": "stdout"
        },
        {
          "output_type": "display_data",
          "data": {
            "image/png": "[encoded data removed]",
            "text/plain": [
              "<Figure size 720x576 with 1 Axes>"
            ]
          },
          "metadata": {
            "tags": [],
            "needs_background": "light"
          }
        }
      ]
    },
    {
      "cell_type": "code",
      "metadata": {
        "colab": {
          "base_uri": "https://localhost:8080/",
          "height": 388
        },
        "id": "Jlq18TUp0UKR",
        "outputId": "3c790690-8315-4e70-eacd-483e63875669"
      },
      "source": [
        "d_train = xgb.DMatrix(X_train_scaled, label=y_train)\r\n",
        "d_test = xgb.DMatrix(X_test_scaled, label=y_test)\r\n",
        "params = {\r\n",
        "    \"max_depth\" : 7,\r\n",
        "    \"eval_metric\": \"auc\"\r\n",
        "}\r\n",
        "model2 = xgb.train(params, d_train, 5000, evals = [(d_test, \"test\")], verbose_eval=100, early_stopping_rounds=20)\r\n",
        "model2.feature_names = ['url', 'media', 'followers', 'dwscore', 'gender', 'moral-emo']\r\n",
        "\r\n",
        "xgb.plot_importance(model2, height=0.4, title=None)\r\n",
        "plt.figure(figsize=(10,8))\r\n",
        "plt.show()"
      ],
      "execution_count": null,
      "outputs": [
        {
          "output_type": "stream",
          "text": [
            "[0]\ttest-auc:0.827812\n",
            "Will train until test-auc hasn't improved in 20 rounds.\n",
            "Stopping. Best iteration:\n",
            "[16]\ttest-auc:0.83455\n",
            "\n"
          ],
          "name": "stdout"
        },
        {
          "output_type": "display_data",
          "data": {
            "image/png": "[encoded data removed]",
            "text/plain": [
              "<Figure size 432x288 with 1 Axes>"
            ]
          },
          "metadata": {
            "tags": [],
            "needs_background": "light"
          }
        },
        {
          "output_type": "display_data",
          "data": {
            "text/plain": [
              "<Figure size 720x576 with 0 Axes>"
            ]
          },
          "metadata": {
            "tags": []
          }
        }
      ]
    },
    {
      "cell_type": "code",
      "metadata": {
        "colab": {
          "base_uri": "https://localhost:8080/",
          "height": 390
        },
        "id": "CRO8DEkGG4XC",
        "outputId": "1831c48d-a01f-4b42-81e6-4b755c8e4adb"
      },
      "source": [
        "explainer = shap.TreeExplainer(model2)\r\n",
        "shap_values = explainer.shap_values(X)\r\n",
        "\r\n",
        "shap.summary_plot(shap_values, X, plot_type=\"bar\")"
      ],
      "execution_count": null,
      "outputs": [
        {
          "output_type": "stream",
          "text": [
            "[0]\ttest-auc:0.830808\n",
            "Will train until test-auc hasn't improved in 20 rounds.\n",
            "Stopping. Best iteration:\n",
            "[20]\ttest-auc:0.838785\n",
            "\n"
          ],
          "name": "stdout"
        },
        {
          "output_type": "display_data",
          "data": {
            "image/png": "[encoded data removed]",
            "text/plain": [
              "<Figure size 576x309.6 with 1 Axes>"
            ]
          },
          "metadata": {
            "tags": [],
            "needs_background": "light"
          }
        }
      ]
    },
    {
      "cell_type": "markdown",
      "metadata": {
        "id": "1xBH4H2Ix6C_"
      },
      "source": [
        "## ML models with outrage and fear"
      ]
    },
    {
      "cell_type": "code",
      "metadata": {
        "id": "vvmoAFuXyEbL"
      },
      "source": [
        "# train test split\r\n",
        "X = df[['url', 'media', 'followers', 'dwscore', 'gender', 'outrage', 'fear']]\r\n",
        "y = df['retweetable']\r\n",
        "\r\n",
        "X_train, X_test, y_train, y_test = train_test_split(X, y, random_state=42)\r\n",
        "scaler = StandardScaler().fit(X_train)\r\n",
        "X_train_scaled = scaler.transform(X_train)\r\n",
        "X_test_scaled = scaler.transform(X_test)"
      ],
      "execution_count": null,
      "outputs": []
    },
    {
      "cell_type": "markdown",
      "metadata": {
        "id": "CHp6CEEJ2oa7"
      },
      "source": [
        "* Penalizaed Logistic Regression Model w/ L2 penalty"
      ]
    },
    {
      "cell_type": "code",
      "metadata": {
        "colab": {
          "base_uri": "https://localhost:8080/"
        },
        "id": "4K0OPkMJ2FLp",
        "outputId": "e02ca7e6-52cd-4a8f-9779-400d40c38190"
      },
      "source": [
        "logreg_pipe3 = make_pipeline(LogisticRegression(penalty='l2'))\r\n",
        "logreg_param_grid3 = {'logisticregression__C': np.linspace(1, 100, 100)}\r\n",
        "logreg_grid3 = GridSearchCV(logreg_pipe3, logreg_param_grid3, cv=kfold, scoring='roc_auc').fit(X_train_scaled, y_train)\r\n",
        "\r\n",
        "print(\"LOGISTIC REGRESSION W/ L2 Penalty (SCALED DATA)\")\r\n",
        "print(\"Best Parameter: {}\".format(logreg_grid3.best_params_))\r\n",
        "print(\"Test set Score: {:.4f}\".format(logreg_grid3.score(X_test_scaled, y_test)))\r\n",
        "\r\n",
        "y_pred = np.array(logreg_grid3.predict(X_test_scaled))\r\n",
        "print(classification_report(y_test, y_pred))"
      ],
      "execution_count": null,
      "outputs": [
        {
          "output_type": "stream",
          "text": [
            "LOGISTIC REGRESSION W/ L2 Penalty (SCALED DATA)\n",
            "Best Parameter: {'logisticregression__C': 5.0}\n",
            "Test set Score: 0.7082\n",
            "              precision    recall  f1-score   support\n",
            "\n",
            "           0       0.61      0.84      0.71     12387\n",
            "           1       0.75      0.46      0.57     12551\n",
            "\n",
            "    accuracy                           0.65     24938\n",
            "   macro avg       0.68      0.65      0.64     24938\n",
            "weighted avg       0.68      0.65      0.64     24938\n",
            "\n"
          ],
          "name": "stdout"
        }
      ]
    },
    {
      "cell_type": "markdown",
      "metadata": {
        "id": "8p03tj3H2r0a"
      },
      "source": [
        "* KNN Classifier"
      ]
    },
    {
      "cell_type": "code",
      "metadata": {
        "colab": {
          "base_uri": "https://localhost:8080/"
        },
        "id": "ka1QQ8HP2r7-",
        "outputId": "64b3f697-6ebf-4957-a1a7-c9eacea0cd75"
      },
      "source": [
        "knn_pipe3 = make_pipeline(KNeighborsClassifier())\r\n",
        "knn_param_grid3 = {'kneighborsclassifier__n_neighbors': range(1, 30)}\r\n",
        "knn_grid3 = GridSearchCV(knn_pipe3, knn_param_grid3, cv=kfold, scoring='roc_auc').fit(X_train_scaled, y_train)\r\n",
        "\r\n",
        "print(\"KNN CLASSIFER (SCALED DATA)\")\r\n",
        "print(\"Best Parameter: {}\".format(knn_grid3.best_params_))\r\n",
        "print(\"Test set Score: {:.4f}\".format(knn_grid3.score(X_test_scaled, y_test)))\r\n",
        "\r\n",
        "y_pred = np.array(knn_grid3.predict(X_test_scaled))\r\n",
        "print(classification_report(y_test, y_pred))"
      ],
      "execution_count": null,
      "outputs": [
        {
          "output_type": "stream",
          "text": [
            "KNN CLASSIFER (SCALED DATA)\n",
            "Best Parameter: {'kneighborsclassifier__n_neighbors': 29}\n",
            "Test set Score: 0.8092\n",
            "              precision    recall  f1-score   support\n",
            "\n",
            "           0       0.71      0.79      0.75     12387\n",
            "           1       0.77      0.68      0.72     12551\n",
            "\n",
            "    accuracy                           0.73     24938\n",
            "   macro avg       0.74      0.73      0.73     24938\n",
            "weighted avg       0.74      0.73      0.73     24938\n",
            "\n"
          ],
          "name": "stdout"
        }
      ]
    },
    {
      "cell_type": "markdown",
      "metadata": {
        "id": "Yozuq9N02z3C"
      },
      "source": [
        "* Random Forest Classifier"
      ]
    },
    {
      "cell_type": "code",
      "metadata": {
        "colab": {
          "base_uri": "https://localhost:8080/"
        },
        "id": "cuhKucKj2zHU",
        "outputId": "eaf44238-d592-4055-dc0a-d78383dc07a5"
      },
      "source": [
        "rfc_pipe3 = make_pipeline(RandomForestClassifier(random_state=42))\r\n",
        "rfc_param_grid3 = {'randomforestclassifier__n_estimators': [100, 500, 1000],\r\n",
        "                  'randomforestclassifier__max_depth': [6, 7, 8]}\r\n",
        "rfc_grid3 = GridSearchCV(rfc_pipe3, rfc_param_grid3, cv=kfold, scoring='roc_auc').fit(X_train_scaled, y_train)\r\n",
        "\r\n",
        "print(\"RANDOM FOREST CLASSIFIER\")\r\n",
        "print(\"Best Parameter: {}\".format(rfc_grid3.best_params_))\r\n",
        "print(\"Test set Score: {:.4f}\".format(rfc_grid3.score(X_test_scaled, y_test)))\r\n",
        "\r\n",
        "y_pred = np.array(rfc_grid3.predict(X_test_scaled))\r\n",
        "print(classification_report(y_test, y_pred))"
      ],
      "execution_count": null,
      "outputs": [
        {
          "output_type": "stream",
          "text": [
            "RANDOM FOREST CLASSIFIER\n",
            "Best Parameter: {'randomforestclassifier__max_depth': 8, 'randomforestclassifier__n_estimators': 1000}\n",
            "Test set Score: 0.8310\n",
            "              precision    recall  f1-score   support\n",
            "\n",
            "           0       0.72      0.83      0.77     12387\n",
            "           1       0.80      0.68      0.74     12551\n",
            "\n",
            "    accuracy                           0.75     24938\n",
            "   macro avg       0.76      0.75      0.75     24938\n",
            "weighted avg       0.76      0.75      0.75     24938\n",
            "\n"
          ],
          "name": "stdout"
        }
      ]
    },
    {
      "cell_type": "markdown",
      "metadata": {
        "id": "YIjShtkq2_Xl"
      },
      "source": [
        "* XGBoost Model"
      ]
    },
    {
      "cell_type": "code",
      "metadata": {
        "colab": {
          "base_uri": "https://localhost:8080/"
        },
        "id": "rQYprh0Q2_lb",
        "outputId": "e3c4ae75-1c05-45b9-e82d-6cb425711269"
      },
      "source": [
        "xgb_pipe3 = make_pipeline(xgb.XGBClassifier())\r\n",
        "xgb_param_grid3 = {'xgbclassifier__max_depth': [6, 7, 8]}\r\n",
        "xgb_grid3 = GridSearchCV(xgb_pipe3, xgb_param_grid3, cv=kfold, scoring='roc_auc').fit(X_train_scaled, y_train)\r\n",
        "\r\n",
        "print(\"XGBOOST CLASSIFIER\")\r\n",
        "print(\"Best Parameter: {}\".format(xgb_grid3.best_params_))\r\n",
        "print(\"Test set Score: {:.4f}\".format(xgb_grid3.score(X_test_scaled, y_test)))\r\n",
        "\r\n",
        "y_pred = np.array(xgb_grid3.predict(X_test_scaled))\r\n",
        "print(classification_report(y_test, y_pred))"
      ],
      "execution_count": null,
      "outputs": [
        {
          "output_type": "stream",
          "text": [
            "XGBOOST CLASSIFIER\n",
            "Best Parameter: {'xgbclassifier__max_depth': 7}\n",
            "Test set Score: 0.8393\n",
            "              precision    recall  f1-score   support\n",
            "\n",
            "           0       0.73      0.82      0.77     12387\n",
            "           1       0.80      0.70      0.74     12551\n",
            "\n",
            "    accuracy                           0.76     24938\n",
            "   macro avg       0.76      0.76      0.76     24938\n",
            "weighted avg       0.76      0.76      0.76     24938\n",
            "\n"
          ],
          "name": "stdout"
        }
      ]
    },
    {
      "cell_type": "markdown",
      "metadata": {
        "id": "jIZKpNsZsWAy"
      },
      "source": [
        "### Create a Feature Importance Plot for the Best Model"
      ]
    },
    {
      "cell_type": "code",
      "metadata": {
        "id": "G4pAnBnufBAJ",
        "colab": {
          "base_uri": "https://localhost:8080/",
          "height": 643
        },
        "outputId": "c70c47b0-64ea-44e6-ad35-44005e2f1dad"
      },
      "source": [
        "# A feature importance plot for a XG Boost model\r\n",
        "# fitting the model with best parameters\r\n",
        "xgb3 = xgb.XGBClassifier(max_depth=7, importance_type='weight')\r\n",
        "xgb3.fit(X_train_scaled, y_train)\r\n",
        "\r\n",
        "plot_feature_importance(xgb3.feature_importances_, X.columns)"
      ],
      "execution_count": null,
      "outputs": [
        {
          "output_type": "stream",
          "text": [
            "  feature_names  feature_importance\n",
            "6          fear            0.234050\n",
            "2     followers            0.230979\n",
            "5       outrage            0.214603\n",
            "3       dwscore            0.164278\n",
            "0           url            0.076766\n",
            "1         media            0.062436\n",
            "4        gender            0.016888\n"
          ],
          "name": "stdout"
        },
        {
          "output_type": "display_data",
          "data": {
            "image/png": "[encoded data removed]",
            "text/plain": [
              "<Figure size 720x576 with 1 Axes>"
            ]
          },
          "metadata": {
            "tags": [],
            "needs_background": "light"
          }
        }
      ]
    },
    {
      "cell_type": "code",
      "metadata": {
        "colab": {
          "base_uri": "https://localhost:8080/",
          "height": 388
        },
        "id": "eHm0aZdnrPcN",
        "outputId": "3e2e301f-667f-417f-c123-97440e63bc16"
      },
      "source": [
        "d_train = xgb.DMatrix(X_train_scaled, label=y_train)\r\n",
        "d_test = xgb.DMatrix(X_test_scaled, label=y_test)\r\n",
        "params = {\r\n",
        "    \"max_depth\" : 7,\r\n",
        "    \"eval_metric\": \"auc\"\r\n",
        "}\r\n",
        "model3 = xgb.train(params, d_train, 5000, evals = [(d_test, \"test\")], verbose_eval=100, early_stopping_rounds=20)\r\n",
        "model3.feature_names = ['url', 'media', 'followers', 'dwscore', 'gender', 'outrage', 'fear']\r\n",
        "\r\n",
        "xgb.plot_importance(model3, height=0.4, title=None)\r\n",
        "plt.figure(figsize=(10,8))\r\n",
        "plt.show()\r\n"
      ],
      "execution_count": null,
      "outputs": [
        {
          "output_type": "stream",
          "text": [
            "[0]\ttest-auc:0.830808\n",
            "Will train until test-auc hasn't improved in 20 rounds.\n",
            "Stopping. Best iteration:\n",
            "[20]\ttest-auc:0.838785\n",
            "\n"
          ],
          "name": "stdout"
        },
        {
          "output_type": "display_data",
          "data": {
            "image/png": "[encoded data removed]",
            "text/plain": [
              "<Figure size 432x288 with 1 Axes>"
            ]
          },
          "metadata": {
            "tags": [],
            "needs_background": "light"
          }
        },
        {
          "output_type": "display_data",
          "data": {
            "text/plain": [
              "<Figure size 720x576 with 0 Axes>"
            ]
          },
          "metadata": {
            "tags": []
          }
        }
      ]
    },
    {
      "cell_type": "code",
      "metadata": {
        "colab": {
          "base_uri": "https://localhost:8080/",
          "height": 299
        },
        "id": "Leexiz5DXLRl",
        "outputId": "a99981fe-a717-4460-b4f4-5604132dd110"
      },
      "source": [
        "explainer = shap.TreeExplainer(model3)\r\n",
        "shap_values = explainer.shap_values(X)\r\n",
        "\r\n",
        "shap.summary_plot(shap_values, X, plot_type=\"bar\")"
      ],
      "execution_count": null,
      "outputs": [
        {
          "output_type": "display_data",
          "data": {
            "image/png": "[encoded data removed]",
            "text/plain": [
              "<Figure size 576x309.6 with 1 Axes>"
            ]
          },
          "metadata": {
            "tags": [],
            "needs_background": "light"
          }
        }
      ]
    },
    {
      "cell_type": "markdown",
      "metadata": {
        "id": "LsciPx5YwJsB"
      },
      "source": [
        "## NO sentiment scores"
      ]
    },
    {
      "cell_type": "code",
      "metadata": {
        "id": "bHC4FAx2SAJS"
      },
      "source": [
        "# train test split\r\n",
        "X = df[['url', 'media', 'followers', 'dwscore', 'gender']]\r\n",
        "y = df['retweetable']\r\n",
        "\r\n",
        "X_train, X_test, y_train, y_test = train_test_split(X, y, random_state=42)\r\n",
        "scaler = StandardScaler().fit(X_train)\r\n",
        "X_train_scaled = scaler.transform(X_train)\r\n",
        "X_test_scaled = scaler.transform(X_test)"
      ],
      "execution_count": null,
      "outputs": []
    },
    {
      "cell_type": "markdown",
      "metadata": {
        "id": "-jj-1lDHY-Lz"
      },
      "source": [
        "* Penalizaed Logistic Regression Model w/ L2 penalty"
      ]
    },
    {
      "cell_type": "code",
      "metadata": {
        "colab": {
          "base_uri": "https://localhost:8080/"
        },
        "id": "F3nfaooSWaW6",
        "outputId": "f6709420-954f-4bbd-aab5-1083940f94a3"
      },
      "source": [
        "logreg_pipe4 = make_pipeline(LogisticRegression(penalty='l2'))\r\n",
        "logreg_param_grid4 = {'logisticregression__C': np.linspace(1, 100, 100)}\r\n",
        "logreg_grid4 = GridSearchCV(logreg_pipe4, logreg_param_grid4, cv=kfold, scoring='roc_auc').fit(X_train_scaled, y_train)\r\n",
        "\r\n",
        "print(\"LOGISTIC REGRESSION W/ L2 Penalty (SCALED DATA)\")\r\n",
        "print(\"Best Parameter: {}\".format(logreg_grid4.best_params_))\r\n",
        "print(\"Test set Score: {:.4f}\".format(logreg_grid4.score(X_test_scaled, y_test)))\r\n",
        "\r\n",
        "y_pred = np.array(logreg_grid4.predict(X_test_scaled))\r\n",
        "print(classification_report(y_test, y_pred))"
      ],
      "execution_count": null,
      "outputs": [
        {
          "output_type": "stream",
          "text": [
            "LOGISTIC REGRESSION W/ L2 Penalty (SCALED DATA)\n",
            "Best Parameter: {'logisticregression__C': 5.0}\n",
            "Test set Score: 0.7121\n",
            "              precision    recall  f1-score   support\n",
            "\n",
            "           0       0.60      0.86      0.71     12387\n",
            "           1       0.76      0.44      0.56     12551\n",
            "\n",
            "    accuracy                           0.65     24938\n",
            "   macro avg       0.68      0.65      0.63     24938\n",
            "weighted avg       0.68      0.65      0.63     24938\n",
            "\n"
          ],
          "name": "stdout"
        }
      ]
    },
    {
      "cell_type": "markdown",
      "metadata": {
        "id": "hXCZ8iOKY_cI"
      },
      "source": [
        "* KNN Classifier"
      ]
    },
    {
      "cell_type": "code",
      "metadata": {
        "colab": {
          "base_uri": "https://localhost:8080/"
        },
        "id": "7tjZrmo5ZFYB",
        "outputId": "103ef167-e80b-4853-bb56-d7534472cb39"
      },
      "source": [
        "knn_pipe3 = make_pipeline(KNeighborsClassifier())\r\n",
        "knn_param_grid3 = {'kneighborsclassifier__n_neighbors': range(1, 30)}\r\n",
        "knn_grid3 = GridSearchCV(knn_pipe3, knn_param_grid3, cv=kfold, scoring='roc_auc').fit(X_train_scaled, y_train)\r\n",
        "\r\n",
        "print(\"KNN CLASSIFER (SCALED DATA)\")\r\n",
        "print(\"Best Parameter: {}\".format(knn_grid3.best_params_))\r\n",
        "print(\"Test set Score: {:.4f}\".format(knn_grid3.score(X_test_scaled, y_test)))\r\n",
        "\r\n",
        "y_pred = np.array(knn_grid3.predict(X_test_scaled))\r\n",
        "print(classification_report(y_test, y_pred))"
      ],
      "execution_count": null,
      "outputs": [
        {
          "output_type": "stream",
          "text": [
            "KNN CLASSIFER (SCALED DATA)\n",
            "Best Parameter: {'kneighborsclassifier__n_neighbors': 29}\n",
            "Test set Score: 0.8243\n",
            "              precision    recall  f1-score   support\n",
            "\n",
            "           0       0.72      0.80      0.76     12387\n",
            "           1       0.78      0.70      0.74     12551\n",
            "\n",
            "    accuracy                           0.75     24938\n",
            "   macro avg       0.75      0.75      0.75     24938\n",
            "weighted avg       0.75      0.75      0.75     24938\n",
            "\n"
          ],
          "name": "stdout"
        }
      ]
    },
    {
      "cell_type": "markdown",
      "metadata": {
        "id": "pbBcu9KXZQiS"
      },
      "source": [
        "* Random Forest"
      ]
    },
    {
      "cell_type": "code",
      "metadata": {
        "colab": {
          "base_uri": "https://localhost:8080/"
        },
        "id": "gSn8jEgPwTqi",
        "outputId": "a951e60c-b05c-408c-9d72-549a79a24887"
      },
      "source": [
        "rfc_pipe4 = make_pipeline(RandomForestClassifier(random_state=42))\r\n",
        "rfc_param_grid4 = {'randomforestclassifier__n_estimators': [100, 1000],\r\n",
        "                  'randomforestclassifier__max_depth': [7, 8]}\r\n",
        "rfc_grid4 = GridSearchCV(rfc_pipe4, rfc_param_grid4, cv=kfold, scoring='roc_auc').fit(X_train_scaled, y_train)\r\n",
        "\r\n",
        "print(\"RANDOM FOREST CLASSIFIER\")\r\n",
        "print(\"Best Parameter: {}\".format(rfc_grid4.best_params_))\r\n",
        "print(\"Test set Score: {:.4f}\".format(rfc_grid4.score(X_test_scaled, y_test)))\r\n",
        "\r\n",
        "y_pred = np.array(rfc_grid4.predict(X_test_scaled))\r\n",
        "print(classification_report(y_test, y_pred))"
      ],
      "execution_count": null,
      "outputs": [
        {
          "output_type": "stream",
          "text": [
            "RANDOM FOREST CLASSIFIER\n",
            "Best Parameter: {'randomforestclassifier__max_depth': 8, 'randomforestclassifier__n_estimators': 1000}\n",
            "Test set Score: 0.8303\n",
            "              precision    recall  f1-score   support\n",
            "\n",
            "           0       0.72      0.81      0.76     12387\n",
            "           1       0.79      0.69      0.74     12551\n",
            "\n",
            "    accuracy                           0.75     24938\n",
            "   macro avg       0.76      0.75      0.75     24938\n",
            "weighted avg       0.76      0.75      0.75     24938\n",
            "\n"
          ],
          "name": "stdout"
        }
      ]
    },
    {
      "cell_type": "markdown",
      "metadata": {
        "id": "Z0IGK9N_ZS8X"
      },
      "source": [
        "* XGBoost"
      ]
    },
    {
      "cell_type": "code",
      "metadata": {
        "id": "-oRyDCVPSAMh",
        "colab": {
          "base_uri": "https://localhost:8080/"
        },
        "outputId": "3c938cb4-042c-4bfd-cc73-6f8972d44888"
      },
      "source": [
        "xgb_pipe4 = make_pipeline(xgb.XGBClassifier())\r\n",
        "xgb_param_grid4 = {'xgbclassifier__max_depth': [7, 8]}\r\n",
        "xgb_grid4 = GridSearchCV(xgb_pipe4, xgb_param_grid4, cv=kfold, scoring='roc_auc').fit(X_train_scaled, y_train)\r\n",
        "\r\n",
        "print(\"XGBOOST CLASSIFIER\")\r\n",
        "print(\"Best Parameter: {}\".format(xgb_grid4.best_params_))\r\n",
        "print(\"Test set Score: {:.4f}\".format(xgb_grid4.score(X_test_scaled, y_test)))\r\n",
        "\r\n",
        "y_pred = np.array(xgb_grid4.predict(X_test_scaled))\r\n",
        "print(classification_report(y_test, y_pred))"
      ],
      "execution_count": null,
      "outputs": [
        {
          "output_type": "stream",
          "text": [
            "XGBOOST CLASSIFIER\n",
            "Best Parameter: {'xgbclassifier__max_depth': 8}\n",
            "Test set Score: 0.8340\n",
            "              precision    recall  f1-score   support\n",
            "\n",
            "           0       0.73      0.81      0.76     12387\n",
            "           1       0.79      0.70      0.74     12551\n",
            "\n",
            "    accuracy                           0.75     24938\n",
            "   macro avg       0.76      0.75      0.75     24938\n",
            "weighted avg       0.76      0.75      0.75     24938\n",
            "\n"
          ],
          "name": "stdout"
        }
      ]
    },
    {
      "cell_type": "markdown",
      "metadata": {
        "id": "tAqaHoFsVSBB"
      },
      "source": [
        "# Visualization\r\n",
        "## General Performance"
      ]
    },
    {
      "cell_type": "code",
      "metadata": {
        "colab": {
          "base_uri": "https://localhost:8080/",
          "height": 483
        },
        "id": "etQTq14ElaKr",
        "outputId": "172ff847-2092-4f7b-a011-57496c51ef6c"
      },
      "source": [
        "# peformance results\r\n",
        "pos_neg = [0.6996, 0.8113, 0.8310, 0.8376]\r\n",
        "moral_emotion = [0.7071, 0.8183, 0.8285, 0.8343]\r\n",
        "outrage_fear = [0.7082, 0.8092, 0.8310, 0.8393]\r\n",
        "\r\n",
        "labels = ['Logistic Regression', 'k-NN Classifier', 'Random Forest', 'XGBoost']\r\n",
        "bar_width = 0.3 # set the bar width\r\n",
        "\r\n",
        "x = np.arange(len(labels))\r\n",
        "\r\n",
        "fig, ax = plt.subplots(figsize=(10,8))\r\n",
        "r1 = np.arange(len(pos_neg))\r\n",
        "r2 = [x + bar_width for x in r1]\r\n",
        "r3 = [x + bar_width for x in r2]\r\n",
        "\r\n",
        "# make the plot\r\n",
        "row1 = ax.bar(r1, pos_neg, color='lightsteelblue', width=bar_width, edgecolor='white', label='pos-neg')\r\n",
        "row2 = ax.bar(r2, moral_emotion, color='cornflowerblue', width=bar_width, edgecolor='white', label='moral-emotion')\r\n",
        "row3 = ax.bar(r3, outrage_fear, color='midnightblue', width=bar_width, edgecolor='white', label='outrage-fear')\r\n",
        "\r\n",
        "# Add some text for labels, title and custom x-axis tick labels, etc.\r\n",
        "ax.set_ylabel('Performance (AUC)')\r\n",
        "ax.set_xticks(x)\r\n",
        "ax.set_xticklabels(labels)\r\n",
        "ax.legend()\r\n",
        "\r\n",
        "def autolabel(rows):\r\n",
        "    \"\"\"Attach a text label above each bar in *rects*, displaying its height.\"\"\"\r\n",
        "    for r in rows:\r\n",
        "        height = r.get_height()\r\n",
        "        ax.annotate('{}'.format(height),\r\n",
        "                    xy=(r.get_x() + r.get_width() / 2, height),\r\n",
        "                    xytext=(0, 3),  # 3 points vertical offset\r\n",
        "                    textcoords=\"offset points\",\r\n",
        "                    ha='center', va='bottom')\r\n",
        "\r\n",
        "autolabel(row1)\r\n",
        "autolabel(row2)\r\n",
        "autolabel(row3)\r\n",
        "\r\n",
        "plt.show()"
      ],
      "execution_count": null,
      "outputs": [
        {
          "output_type": "display_data",
          "data": {
            "image/png": "[encoded data removed]",
            "text/plain": [
              "<Figure size 720x576 with 1 Axes>"
            ]
          },
          "metadata": {
            "tags": [],
            "needs_background": "light"
          }
        }
      ]
    }
  ]
}