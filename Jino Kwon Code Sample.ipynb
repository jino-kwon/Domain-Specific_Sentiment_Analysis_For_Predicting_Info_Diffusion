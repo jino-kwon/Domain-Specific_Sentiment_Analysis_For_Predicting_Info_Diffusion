{
 "cells": [
  {
   "cell_type": "markdown",
   "metadata": {},
   "source": [
    "<b><center>\n",
    "<span style=\"font-size: 24pt; line-height: 1.2\">\n",
    "< Code Sample for Lovelytics Internship Application ><br>\n",
    "</span>\n",
    "</center></b>\n",
    "</span><br>\n",
    "<p>\n",
    "<i><center>\n",
    "<span style=\"font-size: 20pt; line-height: 1.2\">\n",
    "Jino Kwon<br>\n",
    "</span>\n",
    "</center></i>"
   ]
  },
  {
   "cell_type": "markdown",
   "metadata": {},
   "source": [
    "### Introduction : The present code sample is from my independent project on the influence of moral emotional expression on information diffusion of moralized/political content; the idea is that the more people use moral emotional words such as 'right' or 'justice' in their tweet, the more likely their message will be shared by other users. I'm using a preexisting dataset from a published paper on a related topic that scraped Twitter messages from political elites in the year leading up to the 2016 Presidential Election. I'm utilizing various Twitter meta-data (e.g., the number of followers) and sentiment scores for two moral emotions---outrage and fear---which I generate using NLP techniques to build predictive models for the number of retweets for each message. "
   ]
  },
  {
   "cell_type": "code",
   "execution_count": null,
   "metadata": {},
   "outputs": [],
   "source": [
    "%matplotlib inline\n",
    "import pandas as pd\n",
    "import numpy as np\n",
    "import seaborn as sns\n",
    "import matplotlib.pyplot as plt\n",
    "import re\n",
    "from numpy import inf\n",
    "\n",
    "import nltk\n",
    "from nltk.tokenize import word_tokenize\n",
    "from nltk.collocations import *\n",
    "from nltk import FreqDist\n",
    "lemmatizer = nltk.stem.WordNetLemmatizer()\n",
    "nltk.download('stopwords')\n",
    "from nltk.corpus import stopwords \n",
    "from nltk.stem import PorterStemmer"
   ]
  },
  {
   "cell_type": "markdown",
   "metadata": {},
   "source": [
    "# 1. Data Cleaning and Preparation"
   ]
  },
  {
   "cell_type": "code",
   "execution_count": null,
   "metadata": {},
   "outputs": [],
   "source": [
    "# Congress raw Tweeter data\n",
    "df = pd.read_csv(r'C:\\Users\\jino\\Desktop\\iedological assym\\congress\\data\\congress_raw.csv')\n",
    "# Drop two columns that contain unncessary information\n",
    "df = df.drop([\"dw_extr\", \"dwextr_rs\"], axis=1)\n",
    "# Recode categorical values so that '1' means 'yes' and '0' means 'no'\n",
    "df.media = df.media + 0.5\n",
    "df.gender = df.gender + 0.5\n",
    "df.race = df.race + 0.5\n",
    "\n",
    "# Create a new column for log tranformed values for 'followers'\n",
    "df['ln_followers'] = np.log(df['followers'])\n",
    "# Create a new column for log transformed values for 'retweet'\n",
    "df['ln_retweet'] = np.log(df['retweet_count'])\n",
    "# Replaced all '-inf' to 0\n",
    "df = df.replace({'ln_retweet': {-inf: 0}})\n",
    "\n",
    "# Create a new column that labels 'conservative' (as 1) or 'liberal' (as 0)\n",
    "def conserv(x):\n",
    "    if x >= 0 : return 1\n",
    "    elif x < 0 : return 0\n",
    "    else : return 0\n",
    "df[\"conserv\"] = df[\"dw_score\"].apply(conserv)\n",
    "\n",
    "# Checking the new column, 'conserv'\n",
    "df['conserv'].value_counts()\n",
    "# we have 152103 conservatives and 124647 liberals!\n",
    "\n",
    "# For my analysis, I'd randomly select 5000 from liberals and conservatives.\n",
    "df_lib = df[(df['conserv'] == 0)].sample(10000)\n",
    "df_conserv = df[(df['conserv'] == 1)].sample(10000)\n",
    "df1 = pd.concat([df_lib, df_conserv])\n",
    "\n",
    "# Clean tweets and put them in a new column, 'clean_text'\n",
    "stop_words = set(stopwords.words('english')) \n",
    "stop_words.update(['http' , 'xx' , 'x' ,'xe' , 'co'])\n",
    "#stop_words.update(['potus', 'jacksonleetx', 'prd', 'akas', 'sorors', 'actionforpr', 'ronwyden', 'orbizsummit'])\n",
    "\n",
    "# Create a function that cleans text\n",
    "def clean_lemma(txt): \n",
    "  tmp = re.sub(r'^https?:\\/\\/.*[\\r\\n]*', '', txt, flags=re.MULTILINE)\n",
    "  tmp = re.sub('[^a-zA-Z]+', ' ', txt)\n",
    "  tmp = [lemmatizer.lemmatize(w) for w in nltk.word_tokenize(tmp)]\n",
    "  tmp = [word for word in tmp if word not in stop_words]\n",
    "  tmp = [w for w in tmp if len(w)>2]\n",
    "  tmp = ' '.join(tmp)\n",
    "  return tmp\n",
    "\n",
    "df1['clean_text'] = df1['text'].str.lower()\n",
    "df1['clean_text'] = df1.clean_text.apply(clean_lemma)"
   ]
  },
  {
   "cell_type": "markdown",
   "metadata": {},
   "source": [
    "* Creating sentiment scores using the NRC dictionary: a previously-validated dictionary for emotional words"
   ]
  },
  {
   "cell_type": "code",
   "execution_count": null,
   "metadata": {},
   "outputs": [],
   "source": [
    "# Prepping the NRC dictionary for sentiment analysis\n",
    "filepath = r\"C:\\Users\\jino\\Desktop\\Final Project\\NRC-Emotion-Lexicon-Wordlevel-v0.92.txt\"\n",
    "nrc_df = pd.read_csv(filepath,  names=[\"word\", \"emotion\", \"association\"], sep='\\t')\n",
    "# I'm deleting a list of entries that are not associated with any emotion\n",
    "nrc_df = nrc_df[nrc_df.association != 0]\n",
    "# Create a 'outrage' dictionary\n",
    "nrc_outrage = nrc_df[(nrc_df.emotion == 'anger') | (nrc_df.emotion == 'disgust')]\n",
    "# Create a 'fear' dictionary\n",
    "nrc_fear = nrc_df[nrc_df.emotion == 'fear']\n",
    "# Create a 'positive' dictionary\n",
    "nrc_pos = nrc_df[nrc_df.emotion == 'positive']\n",
    "# Create a 'negative' dictionary\n",
    "nrc_neg = nrc_df[nrc_df.emotion == 'negative']"
   ]
  },
  {
   "cell_type": "markdown",
   "metadata": {},
   "source": [
    "* Create functions for outrage/fear"
   ]
  },
  {
   "cell_type": "code",
   "execution_count": null,
   "metadata": {},
   "outputs": [],
   "source": [
    "# Create a function for 'outrage' score\n",
    "def outrage_senti(txt):\n",
    "    token = nltk.word_tokenize(txt)\n",
    "    ow = []\n",
    "    for word in token:\n",
    "        for o in nrc_outrage['word']:\n",
    "            if word == o:\n",
    "                ow.append(word)\n",
    "    oc = len(ow)\n",
    "    try:\n",
    "      S = oc / len(token)\n",
    "    except:\n",
    "      S = 0\n",
    "    return S\n",
    "\n",
    "# Create a function for 'fear' score\n",
    "def fear_senti(txt):\n",
    "    token = nltk.word_tokenize(txt)\n",
    "    fw = []\n",
    "    for word in token:\n",
    "        for f in nrc_fear['word']:\n",
    "            if word == f:\n",
    "                fw.append(word)\n",
    "    fc = len(fw)\n",
    "    try:\n",
    "      S = fc / len(token)\n",
    "    except:\n",
    "      S = 0\n",
    "    return S\n",
    "\n",
    "# Create a fuction for 'posneg' score\n",
    "def posneg(txt):\n",
    "    token = nltk.word_tokenize(txt)\n",
    "    pw = []\n",
    "    nw = []\n",
    "    for word in token:\n",
    "        for p in nrc_pos['word']:\n",
    "            if word == p:\n",
    "                pw.append(word)\n",
    "        for n in nrc_neg['word']:\n",
    "            if word == n:\n",
    "                nw.append(word)\n",
    "    pc = len(pw)\n",
    "    nc = len(nw)\n",
    "    try:\n",
    "      S = ( pc*(1) + nc*(-1) ) / (pc+nc)\n",
    "    except:\n",
    "      S = 0\n",
    "    return S\n",
    "\n",
    "# Create a new column for 'outrage score'\n",
    "df1['outrage'] = df1.clean_text.apply(outrage_senti)\n",
    "# Create a new column for 'fear score'\n",
    "df1['fear'] = df1.clean_text.apply(fear_senti)\n",
    "# Create a new column for 'pos/neg' score\n",
    "df1['posneg'] = df1.clean_text.apply(posneg)"
   ]
  },
  {
   "cell_type": "code",
   "execution_count": null,
   "metadata": {},
   "outputs": [],
   "source": [
    "# Save the df1 file\n",
    "df1.to_csv(r'C:\\Users\\jino\\Desktop\\Final Project\\preprocessed_data')"
   ]
  },
  {
   "cell_type": "markdown",
   "metadata": {},
   "source": [
    "# 2. Building ML Models!"
   ]
  },
  {
   "cell_type": "code",
   "execution_count": 1,
   "metadata": {},
   "outputs": [],
   "source": [
    "import pandas as pd\n",
    "import numpy as np\n",
    "import matplotlib as mpl\n",
    "import matplotlib.pyplot as plt\n",
    "import seaborn as sns\n",
    "from sklearn.model_selection import cross_val_score\n",
    "from sklearn.model_selection import GridSearchCV\n",
    "from sklearn.feature_extraction.text import TfidfVectorizer\n",
    "from sklearn.feature_extraction.text import CountVectorizer\n",
    "from sklearn.linear_model import LinearRegression\n",
    "from sklearn.neighbors import KNeighborsRegressor\n",
    "from sklearn.preprocessing import StandardScaler\n",
    "from sklearn.feature_extraction.text import TfidfVectorizer\n",
    "from sklearn.feature_extraction.text import CountVectorizer\n",
    "from sklearn.model_selection import train_test_split\n",
    "from sklearn.ensemble import RandomForestRegressor\n",
    "from sklearn.svm import SVR\n",
    "from sklearn.linear_model import Lasso\n",
    "from sklearn.linear_model import Ridge\n",
    "from sklearn.feature_extraction.text import TfidfTransformer\n",
    "from sklearn.pipeline import make_pipeline\n",
    "import statsmodels.api as sm\n",
    "import statsmodels.formula.api as smf\n",
    "\n",
    "# Supress Warnings\n",
    "import warnings\n",
    "warnings.simplefilter(action='ignore', category=FutureWarning)\n",
    "\n",
    "from sklearn.exceptions import DataConversionWarning\n",
    "warnings.filterwarnings(action='ignore', category=DataConversionWarning)"
   ]
  },
  {
   "cell_type": "markdown",
   "metadata": {},
   "source": [
    "The following is what the raw dataset that I downloaded looks like: "
   ]
  },
  {
   "cell_type": "code",
   "execution_count": 20,
   "metadata": {},
   "outputs": [
    {
     "data": {
      "text/html": [
       "<div>\n",
       "<style scoped>\n",
       "    .dataframe tbody tr th:only-of-type {\n",
       "        vertical-align: middle;\n",
       "    }\n",
       "\n",
       "    .dataframe tbody tr th {\n",
       "        vertical-align: top;\n",
       "    }\n",
       "\n",
       "    .dataframe thead th {\n",
       "        text-align: right;\n",
       "    }\n",
       "</style>\n",
       "<table border=\"1\" class=\"dataframe\">\n",
       "  <thead>\n",
       "    <tr style=\"text-align: right;\">\n",
       "      <th></th>\n",
       "      <th>text</th>\n",
       "      <th>elite</th>\n",
       "      <th>retweet_count</th>\n",
       "      <th>media</th>\n",
       "      <th>gender</th>\n",
       "      <th>dw_extr</th>\n",
       "      <th>dwextr_rs</th>\n",
       "      <th>dw_score</th>\n",
       "      <th>race</th>\n",
       "      <th>age</th>\n",
       "      <th>followers</th>\n",
       "    </tr>\n",
       "  </thead>\n",
       "  <tbody>\n",
       "    <tr>\n",
       "      <td>0</td>\n",
       "      <td>@jnblsm Thanks for reaching out.  Wes Scherman...</td>\n",
       "      <td>_Hunter</td>\n",
       "      <td>8</td>\n",
       "      <td>-0.5</td>\n",
       "      <td>0.5</td>\n",
       "      <td>0.511</td>\n",
       "      <td>0.413264</td>\n",
       "      <td>0.511</td>\n",
       "      <td>0.5</td>\n",
       "      <td>69</td>\n",
       "      <td>13068.0</td>\n",
       "    </tr>\n",
       "    <tr>\n",
       "      <td>1</td>\n",
       "      <td>.@sdut Let\\xe2\\x80\\x99s make America great aga...</td>\n",
       "      <td>_Hunter</td>\n",
       "      <td>155</td>\n",
       "      <td>0.5</td>\n",
       "      <td>0.5</td>\n",
       "      <td>0.511</td>\n",
       "      <td>0.413264</td>\n",
       "      <td>0.511</td>\n",
       "      <td>0.5</td>\n",
       "      <td>69</td>\n",
       "      <td>13068.0</td>\n",
       "    </tr>\n",
       "    <tr>\n",
       "      <td>2</td>\n",
       "      <td>'This afternoon I'm meeting w/ White House to ...</td>\n",
       "      <td>Abraham</td>\n",
       "      <td>2</td>\n",
       "      <td>-0.5</td>\n",
       "      <td>0.5</td>\n",
       "      <td>0.499</td>\n",
       "      <td>0.403560</td>\n",
       "      <td>0.499</td>\n",
       "      <td>0.5</td>\n",
       "      <td>63</td>\n",
       "      <td>6482.0</td>\n",
       "    </tr>\n",
       "    <tr>\n",
       "      <td>3</td>\n",
       "      <td>My statement on the FEMA 90-10 cost-share anno...</td>\n",
       "      <td>Abraham</td>\n",
       "      <td>3</td>\n",
       "      <td>0.5</td>\n",
       "      <td>0.5</td>\n",
       "      <td>0.499</td>\n",
       "      <td>0.403560</td>\n",
       "      <td>0.499</td>\n",
       "      <td>0.5</td>\n",
       "      <td>63</td>\n",
       "      <td>6482.0</td>\n",
       "    </tr>\n",
       "    <tr>\n",
       "      <td>4</td>\n",
       "      <td>Louisiana congressional delegation wrote to FE...</td>\n",
       "      <td>Abraham</td>\n",
       "      <td>1</td>\n",
       "      <td>-0.5</td>\n",
       "      <td>0.5</td>\n",
       "      <td>0.499</td>\n",
       "      <td>0.403560</td>\n",
       "      <td>0.499</td>\n",
       "      <td>0.5</td>\n",
       "      <td>63</td>\n",
       "      <td>6482.0</td>\n",
       "    </tr>\n",
       "  </tbody>\n",
       "</table>\n",
       "</div>"
      ],
      "text/plain": [
       "                                                text    elite  retweet_count  \\\n",
       "0  @jnblsm Thanks for reaching out.  Wes Scherman...  _Hunter              8   \n",
       "1  .@sdut Let\\xe2\\x80\\x99s make America great aga...  _Hunter            155   \n",
       "2  'This afternoon I'm meeting w/ White House to ...  Abraham              2   \n",
       "3  My statement on the FEMA 90-10 cost-share anno...  Abraham              3   \n",
       "4  Louisiana congressional delegation wrote to FE...  Abraham              1   \n",
       "\n",
       "   media  gender  dw_extr  dwextr_rs  dw_score  race  age  followers  \n",
       "0   -0.5     0.5    0.511   0.413264     0.511   0.5   69    13068.0  \n",
       "1    0.5     0.5    0.511   0.413264     0.511   0.5   69    13068.0  \n",
       "2   -0.5     0.5    0.499   0.403560     0.499   0.5   63     6482.0  \n",
       "3    0.5     0.5    0.499   0.403560     0.499   0.5   63     6482.0  \n",
       "4   -0.5     0.5    0.499   0.403560     0.499   0.5   63     6482.0  "
      ]
     },
     "execution_count": 20,
     "metadata": {},
     "output_type": "execute_result"
    }
   ],
   "source": [
    "df = pd.read_csv(r'C:\\Users\\jino\\Desktop\\Jino Kwon Final Project (NLP)\\congress_raw (original data).csv')\n",
    "df.head()"
   ]
  },
  {
   "cell_type": "markdown",
   "metadata": {},
   "source": [
    "The following is what the cleaned data (following the steps outlined in the data cleaning section above) looks like:"
   ]
  },
  {
   "cell_type": "code",
   "execution_count": 2,
   "metadata": {},
   "outputs": [
    {
     "data": {
      "text/html": [
       "<div>\n",
       "<style scoped>\n",
       "    .dataframe tbody tr th:only-of-type {\n",
       "        vertical-align: middle;\n",
       "    }\n",
       "\n",
       "    .dataframe tbody tr th {\n",
       "        vertical-align: top;\n",
       "    }\n",
       "\n",
       "    .dataframe thead th {\n",
       "        text-align: right;\n",
       "    }\n",
       "</style>\n",
       "<table border=\"1\" class=\"dataframe\">\n",
       "  <thead>\n",
       "    <tr style=\"text-align: right;\">\n",
       "      <th></th>\n",
       "      <th>Unnamed: 0</th>\n",
       "      <th>text</th>\n",
       "      <th>elite</th>\n",
       "      <th>retweet_count</th>\n",
       "      <th>media</th>\n",
       "      <th>gender</th>\n",
       "      <th>dw_score</th>\n",
       "      <th>race</th>\n",
       "      <th>age</th>\n",
       "      <th>followers</th>\n",
       "      <th>ln_followers</th>\n",
       "      <th>ln_retweet</th>\n",
       "      <th>conserv</th>\n",
       "      <th>clean_text</th>\n",
       "      <th>outrage</th>\n",
       "      <th>fear</th>\n",
       "      <th>posneg</th>\n",
       "    </tr>\n",
       "  </thead>\n",
       "  <tbody>\n",
       "    <tr>\n",
       "      <td>0</td>\n",
       "      <td>100977</td>\n",
       "      <td>@POTUS supports #Congress #ActionForPR to addr...</td>\n",
       "      <td>JoseSerrano</td>\n",
       "      <td>5</td>\n",
       "      <td>0.0</td>\n",
       "      <td>1.0</td>\n",
       "      <td>-0.489</td>\n",
       "      <td>0.0</td>\n",
       "      <td>74</td>\n",
       "      <td>22282.00</td>\n",
       "      <td>10.011534</td>\n",
       "      <td>1.609438</td>\n",
       "      <td>0</td>\n",
       "      <td>potus support congress actionforpr address prd...</td>\n",
       "      <td>0.090909</td>\n",
       "      <td>0.000000</td>\n",
       "      <td>1.0</td>\n",
       "    </tr>\n",
       "    <tr>\n",
       "      <td>1</td>\n",
       "      <td>276271</td>\n",
       "      <td>Posing with my sorors this week for AKAs on th...</td>\n",
       "      <td>Wilson</td>\n",
       "      <td>2</td>\n",
       "      <td>1.0</td>\n",
       "      <td>0.0</td>\n",
       "      <td>-0.476</td>\n",
       "      <td>0.0</td>\n",
       "      <td>75</td>\n",
       "      <td>18202.00</td>\n",
       "      <td>9.809287</td>\n",
       "      <td>0.693147</td>\n",
       "      <td>0</td>\n",
       "      <td>posing sorors week akas hill day jacksonleetx ...</td>\n",
       "      <td>0.000000</td>\n",
       "      <td>0.000000</td>\n",
       "      <td>0.0</td>\n",
       "    </tr>\n",
       "    <tr>\n",
       "      <td>2</td>\n",
       "      <td>212898</td>\n",
       "      <td>The current federal minimum wage of $7.25 an h...</td>\n",
       "      <td>SenSanders</td>\n",
       "      <td>1715</td>\n",
       "      <td>0.0</td>\n",
       "      <td>1.0</td>\n",
       "      <td>-0.513</td>\n",
       "      <td>1.0</td>\n",
       "      <td>76</td>\n",
       "      <td>2587562.39</td>\n",
       "      <td>14.766227</td>\n",
       "      <td>7.447168</td>\n",
       "      <td>0</td>\n",
       "      <td>current federal minimum wage hour starvation w...</td>\n",
       "      <td>0.000000</td>\n",
       "      <td>0.090909</td>\n",
       "      <td>-1.0</td>\n",
       "    </tr>\n",
       "    <tr>\n",
       "      <td>3</td>\n",
       "      <td>143503</td>\n",
       "      <td>'October's jobs numbers show economy making st...</td>\n",
       "      <td>NancyPelosi</td>\n",
       "      <td>37</td>\n",
       "      <td>0.0</td>\n",
       "      <td>0.0</td>\n",
       "      <td>-0.492</td>\n",
       "      <td>1.0</td>\n",
       "      <td>77</td>\n",
       "      <td>1297533.00</td>\n",
       "      <td>14.075975</td>\n",
       "      <td>3.610918</td>\n",
       "      <td>0</td>\n",
       "      <td>october job number show economy making strong ...</td>\n",
       "      <td>0.062500</td>\n",
       "      <td>0.000000</td>\n",
       "      <td>1.0</td>\n",
       "    </tr>\n",
       "    <tr>\n",
       "      <td>4</td>\n",
       "      <td>201753</td>\n",
       "      <td>Great to be at the #ORBizSummit w/@RonWyden to...</td>\n",
       "      <td>SenJeffMerkley</td>\n",
       "      <td>4</td>\n",
       "      <td>1.0</td>\n",
       "      <td>1.0</td>\n",
       "      <td>-0.451</td>\n",
       "      <td>1.0</td>\n",
       "      <td>61</td>\n",
       "      <td>47314.00</td>\n",
       "      <td>10.764562</td>\n",
       "      <td>1.386294</td>\n",
       "      <td>0</td>\n",
       "      <td>great orbizsummit ronwyden today hear business...</td>\n",
       "      <td>0.000000</td>\n",
       "      <td>0.000000</td>\n",
       "      <td>1.0</td>\n",
       "    </tr>\n",
       "  </tbody>\n",
       "</table>\n",
       "</div>"
      ],
      "text/plain": [
       "   Unnamed: 0                                               text  \\\n",
       "0      100977  @POTUS supports #Congress #ActionForPR to addr...   \n",
       "1      276271  Posing with my sorors this week for AKAs on th...   \n",
       "2      212898  The current federal minimum wage of $7.25 an h...   \n",
       "3      143503  'October's jobs numbers show economy making st...   \n",
       "4      201753  Great to be at the #ORBizSummit w/@RonWyden to...   \n",
       "\n",
       "            elite  retweet_count  media  gender  dw_score  race  age  \\\n",
       "0     JoseSerrano              5    0.0     1.0    -0.489   0.0   74   \n",
       "1          Wilson              2    1.0     0.0    -0.476   0.0   75   \n",
       "2      SenSanders           1715    0.0     1.0    -0.513   1.0   76   \n",
       "3     NancyPelosi             37    0.0     0.0    -0.492   1.0   77   \n",
       "4  SenJeffMerkley              4    1.0     1.0    -0.451   1.0   61   \n",
       "\n",
       "    followers  ln_followers  ln_retweet  conserv  \\\n",
       "0    22282.00     10.011534    1.609438        0   \n",
       "1    18202.00      9.809287    0.693147        0   \n",
       "2  2587562.39     14.766227    7.447168        0   \n",
       "3  1297533.00     14.075975    3.610918        0   \n",
       "4    47314.00     10.764562    1.386294        0   \n",
       "\n",
       "                                          clean_text   outrage      fear  \\\n",
       "0  potus support congress actionforpr address prd...  0.090909  0.000000   \n",
       "1  posing sorors week akas hill day jacksonleetx ...  0.000000  0.000000   \n",
       "2  current federal minimum wage hour starvation w...  0.000000  0.090909   \n",
       "3  october job number show economy making strong ...  0.062500  0.000000   \n",
       "4  great orbizsummit ronwyden today hear business...  0.000000  0.000000   \n",
       "\n",
       "   posneg  \n",
       "0     1.0  \n",
       "1     0.0  \n",
       "2    -1.0  \n",
       "3     1.0  \n",
       "4     1.0  "
      ]
     },
     "execution_count": 2,
     "metadata": {},
     "output_type": "execute_result"
    }
   ],
   "source": [
    "df = pd.read_csv('C:/Users/jino/Desktop/Jino Kwon Final Project (NLP)/preprocessed_data.csv')\n",
    "df.head()"
   ]
  },
  {
   "cell_type": "markdown",
   "metadata": {},
   "source": [
    "### Model 1: just text data (Vectorizer + ML models)\n",
    "The first exploratory model only uses the original Twitter messages and the number of retweet counts"
   ]
  },
  {
   "cell_type": "code",
   "execution_count": 79,
   "metadata": {},
   "outputs": [],
   "source": [
    "# Preparing the data\n",
    "X = df['text']\n",
    "y = df['retweet_count']\n",
    "X_train, X_test, y_train, y_test = train_test_split(X, y, random_state = 42)"
   ]
  },
  {
   "cell_type": "markdown",
   "metadata": {},
   "source": [
    "* CountVectorizer with retweet_count"
   ]
  },
  {
   "cell_type": "code",
   "execution_count": 76,
   "metadata": {},
   "outputs": [],
   "source": [
    "count = CountVectorizer(ngram_range=(1,2), min_df = 3)\n",
    "X_train = count.fit_transform(X_train)\n",
    "y_train = y_train\n",
    "X_test = count.transform(X_test)\n",
    "y_test = y_test"
   ]
  },
  {
   "cell_type": "code",
   "execution_count": 78,
   "metadata": {},
   "outputs": [
    {
     "name": "stdout",
     "output_type": "stream",
     "text": [
      "Best Parameters with GridSearchCV: {'max_depth': 10, 'n_estimators': 32}\n",
      "Best Cross Validation Score with GridSearchCV: -0.1476\n",
      "Test Score: 0.0006\n"
     ]
    }
   ],
   "source": [
    "param_grid = {\"max_depth\": [10, 50], \"n_estimators\": [1, 4, 16, 32]}\n",
    "rfr_grid = GridSearchCV(RandomForestRegressor(), param_grid, cv=5).fit(X_train, y_train)\n",
    "print(\"Best Parameters with GridSearchCV: {}\".format(rfr_grid.best_params_))\n",
    "print(\"Best Cross Validation Score with GridSearchCV: {:.4f}\".format(rfr_grid.best_score_))\n",
    "\n",
    "# The following shows the evaluation of this model using the test set\n",
    "print(\"Test Score: {:.4f}\".format(rfr_grid.score(X_test, y_test)))"
   ]
  },
  {
   "cell_type": "markdown",
   "metadata": {},
   "source": [
    "* TfidfVectorizer with retweet_count"
   ]
  },
  {
   "cell_type": "code",
   "execution_count": 80,
   "metadata": {},
   "outputs": [],
   "source": [
    "tfidf = TfidfVectorizer(ngram_range=(1,2), min_df=3)\n",
    "X_train = tfidf.fit_transform(X_train)\n",
    "y_train = y_train\n",
    "X_test = tfidf.transform(X_test)\n",
    "y_test = y_test"
   ]
  },
  {
   "cell_type": "code",
   "execution_count": 81,
   "metadata": {},
   "outputs": [
    {
     "name": "stdout",
     "output_type": "stream",
     "text": [
      "Best Parameters with GridSearchCV: {'max_depth': 10, 'n_estimators': 32}\n",
      "Best Cross Validation Score with GridSearchCV: -0.1622\n",
      "Test Score: -0.1798\n"
     ]
    }
   ],
   "source": [
    "param_grid = {\"max_depth\": [10, 50], \"n_estimators\": [1, 4, 16, 32]}\n",
    "rfr_grid = GridSearchCV(RandomForestRegressor(), param_grid, cv=5).fit(X_train, y_train)\n",
    "print(\"Best Parameters with GridSearchCV: {}\".format(rfr_grid.best_params_))\n",
    "print(\"Best Cross Validation Score with GridSearchCV: {:.4f}\".format(rfr_grid.best_score_))\n",
    "\n",
    "# The following shows the evaluation of this model using the test set\n",
    "print(\"Test Score: {:.4f}\".format(rfr_grid.score(X_test, y_test)))"
   ]
  },
  {
   "cell_type": "markdown",
   "metadata": {},
   "source": [
    "* Running the same 2 models but with log transformed values for retweet_count\n",
    "    * The rationale for using ln (log-transformed) values for the number of retweets is covered in a later section."
   ]
  },
  {
   "cell_type": "code",
   "execution_count": 10,
   "metadata": {},
   "outputs": [],
   "source": [
    "# Preparing the data\n",
    "X = df['text']\n",
    "y = df['ln_retweet']\n",
    "X_train, X_test, y_train, y_test = train_test_split(X, y, random_state = 42)"
   ]
  },
  {
   "cell_type": "markdown",
   "metadata": {},
   "source": [
    "* CounVectorizer with ln_retweet"
   ]
  },
  {
   "cell_type": "code",
   "execution_count": 8,
   "metadata": {},
   "outputs": [],
   "source": [
    "count = CountVectorizer(ngram_range=(1,2), min_df = 3)\n",
    "X_train = count.fit_transform(X_train)\n",
    "y_train = y_train\n",
    "X_test = count.transform(X_test)\n",
    "y_test = y_test"
   ]
  },
  {
   "cell_type": "code",
   "execution_count": 9,
   "metadata": {},
   "outputs": [
    {
     "name": "stdout",
     "output_type": "stream",
     "text": [
      "Best Parameters with GridSearchCV: {'max_depth': 50, 'n_estimators': 32}\n",
      "Best Cross Validation Score with GridSearchCV: 0.1068\n",
      "Test Score: 0.1242\n"
     ]
    }
   ],
   "source": [
    "param_grid = {\"max_depth\": [10, 50], \"n_estimators\": [1, 4, 16, 32]}\n",
    "rfr_grid = GridSearchCV(RandomForestRegressor(), param_grid, cv=5).fit(X_train, y_train)\n",
    "print(\"Best Parameters with GridSearchCV: {}\".format(rfr_grid.best_params_))\n",
    "print(\"Best Cross Validation Score with GridSearchCV: {:.4f}\".format(rfr_grid.best_score_))\n",
    "\n",
    "# The following shows the evaluation of this model using the test set\n",
    "print(\"Test Score: {:.4f}\".format(rfr_grid.score(X_test, y_test)))"
   ]
  },
  {
   "cell_type": "markdown",
   "metadata": {},
   "source": [
    "*  TfidfVectorizer with ln_retweet"
   ]
  },
  {
   "cell_type": "code",
   "execution_count": 11,
   "metadata": {},
   "outputs": [],
   "source": [
    "tfidf = TfidfVectorizer(ngram_range=(1,2), min_df=3)\n",
    "X_train = tfidf.fit_transform(X_train)\n",
    "y_train = y_train\n",
    "X_test = tfidf.transform(X_test)\n",
    "y_test = y_test"
   ]
  },
  {
   "cell_type": "code",
   "execution_count": 12,
   "metadata": {},
   "outputs": [
    {
     "name": "stdout",
     "output_type": "stream",
     "text": [
      "Best Parameters with GridSearchCV: {'max_depth': 50, 'n_estimators': 32}\n",
      "Best Cross Validation Score with GridSearchCV: 0.1030\n",
      "Test Score: 0.1297\n"
     ]
    }
   ],
   "source": [
    "param_grid = {\"max_depth\": [10, 50], \"n_estimators\": [1, 4, 16, 32]}\n",
    "rfr_grid = GridSearchCV(RandomForestRegressor(), param_grid, cv=5).fit(X_train, y_train)\n",
    "print(\"Best Parameters with GridSearchCV: {}\".format(rfr_grid.best_params_))\n",
    "print(\"Best Cross Validation Score with GridSearchCV: {:.4f}\".format(rfr_grid.best_score_))\n",
    "\n",
    "# The following shows the evaluation of this model using the test set\n",
    "print(\"Test Score: {:.4f}\".format(rfr_grid.score(X_test, y_test)))"
   ]
  },
  {
   "cell_type": "markdown",
   "metadata": {},
   "source": [
    "### Model 2:  ML models with 3 key variables: political identity strength & outrage & fear"
   ]
  },
  {
   "cell_type": "code",
   "execution_count": 23,
   "metadata": {},
   "outputs": [
    {
     "name": "stdout",
     "output_type": "stream",
     "text": [
      "                            OLS Regression Results                            \n",
      "==============================================================================\n",
      "Dep. Variable:             ln_retweet   R-squared:                       0.026\n",
      "Model:                            OLS   Adj. R-squared:                  0.026\n",
      "Method:                 Least Squares   F-statistic:                     134.9\n",
      "Date:                Thu, 19 Dec 2019   Prob (F-statistic):          6.69e-114\n",
      "Time:                        22:22:23   Log-Likelihood:                -37037.\n",
      "No. Observations:               20000   AIC:                         7.408e+04\n",
      "Df Residuals:                   19995   BIC:                         7.412e+04\n",
      "Df Model:                           4                                         \n",
      "Covariance Type:            nonrobust                                         \n",
      "================================================================================\n",
      "                   coef    std err          t      P>|t|      [0.025      0.975]\n",
      "--------------------------------------------------------------------------------\n",
      "Intercept        1.3426      0.013     99.583      0.000       1.316       1.369\n",
      "fear             1.8464      0.232      7.965      0.000       1.392       2.301\n",
      "outrage          2.2887      0.210     10.874      0.000       1.876       2.701\n",
      "fear:outrage    -6.2209      1.066     -5.834      0.000      -8.311      -4.131\n",
      "dw_score        -0.2963      0.024    -12.251      0.000      -0.344      -0.249\n",
      "==============================================================================\n",
      "Omnibus:                     5608.037   Durbin-Watson:                   1.996\n",
      "Prob(Omnibus):                  0.000   Jarque-Bera (JB):            14789.893\n",
      "Skew:                           1.519   Prob(JB):                         0.00\n",
      "Kurtosis:                       5.919   Cond. No.                         99.4\n",
      "==============================================================================\n",
      "\n",
      "Warnings:\n",
      "[1] Standard Errors assume that the covariance matrix of the errors is correctly specified.\n"
     ]
    }
   ],
   "source": [
    "lm = smf.ols(formula = 'ln_retweet ~ fear * outrage + dw_score', data = df).fit()\n",
    "print (lm.summary())"
   ]
  },
  {
   "cell_type": "markdown",
   "metadata": {},
   "source": [
    "* Model 2-1: KNN Regression"
   ]
  },
  {
   "cell_type": "code",
   "execution_count": 24,
   "metadata": {},
   "outputs": [],
   "source": [
    "X = df[['outrage', 'fear', 'dw_score']]\n",
    "y = df['ln_retweet']\n",
    "\n",
    "X_train, X_test, y_train, y_test = train_test_split(X, y, random_state=42)\n",
    "scaler = StandardScaler().fit(X_train)\n",
    "X_train_scaled = scaler.transform(X_train)\n",
    "X_test_scaled = scaler.transform(X_test)"
   ]
  },
  {
   "cell_type": "code",
   "execution_count": 25,
   "metadata": {},
   "outputs": [
    {
     "name": "stdout",
     "output_type": "stream",
     "text": [
      "Best Parameters with GridSearchCV: {'n_neighbors': 15}\n",
      "Best Cross Validation score with GridSearchCV: -0.0387\n",
      "Test Score: -0.0192\n"
     ]
    }
   ],
   "source": [
    "param_grid = {'n_neighbors': [5, 10, 15]}\n",
    "grid = GridSearchCV(KNeighborsRegressor(), param_grid, cv=5).fit(X_train_scaled, y_train)\n",
    "print(\"Best Parameters with GridSearchCV: {}\".format(grid.best_params_))\n",
    "print(\"Best Cross Validation score with GridSearchCV: {:.4f}\".format(grid.best_score_))\n",
    "\n",
    "# The following shows the evaluation of this model using the test set\n",
    "print(\"Test Score: {:.4f}\".format(grid.score(X_test_scaled, y_test)))"
   ]
  },
  {
   "cell_type": "markdown",
   "metadata": {},
   "source": [
    "* Model 2-2: Random Forest Model"
   ]
  },
  {
   "cell_type": "code",
   "execution_count": 28,
   "metadata": {},
   "outputs": [
    {
     "name": "stdout",
     "output_type": "stream",
     "text": [
      "Best Parameters with GridSearchCV: {'max_depth': 10, 'n_estimators': 64}\n",
      "Best Cross Validation Score with GridSearchCV: 0.0079\n",
      "Test Score: 0.0062\n"
     ]
    }
   ],
   "source": [
    "param_grid = {\"max_depth\": [10, 50, 100], \"n_estimators\": [1, 4, 16, 32, 64]}\n",
    "rfr_grid = GridSearchCV(RandomForestRegressor(), param_grid, cv=5).fit(X_train_scaled, y_train)\n",
    "print(\"Best Parameters with GridSearchCV: {}\".format(rfr_grid.best_params_))\n",
    "print(\"Best Cross Validation Score with GridSearchCV: {:.4f}\".format(rfr_grid.best_score_))\n",
    "\n",
    "# The following shows the evaluation of this model using the test set\n",
    "print(\"Test Score: {:.4f}\".format(rfr_grid.score(X_test_scaled, y_test)))"
   ]
  },
  {
   "cell_type": "markdown",
   "metadata": {},
   "source": [
    "### Model 3: 3 ML models with more variables: + media, gender,\trace, followers\t"
   ]
  },
  {
   "cell_type": "code",
   "execution_count": 5,
   "metadata": {},
   "outputs": [
    {
     "name": "stdout",
     "output_type": "stream",
     "text": [
      "                            OLS Regression Results                            \n",
      "==============================================================================\n",
      "Dep. Variable:             ln_retweet   R-squared:                       0.321\n",
      "Model:                            OLS   Adj. R-squared:                  0.320\n",
      "Method:                 Least Squares   F-statistic:                     1180.\n",
      "Date:                Wed, 18 Dec 2019   Prob (F-statistic):               0.00\n",
      "Time:                        19:21:54   Log-Likelihood:                -33437.\n",
      "No. Observations:               20000   AIC:                         6.689e+04\n",
      "Df Residuals:                   19991   BIC:                         6.696e+04\n",
      "Df Model:                           8                                         \n",
      "Covariance Type:            nonrobust                                         \n",
      "==============================================================================\n",
      "                 coef    std err          t      P>|t|      [0.025      0.975]\n",
      "------------------------------------------------------------------------------\n",
      "Intercept      1.2458      0.029     42.848      0.000       1.189       1.303\n",
      "fear           0.7653      0.176      4.349      0.000       0.420       1.110\n",
      "outrage        1.4633      0.139     10.521      0.000       1.191       1.736\n",
      "posneg        -0.1072      0.016     -6.868      0.000      -0.138      -0.077\n",
      "dw_score      -0.0525      0.022     -2.398      0.016      -0.095      -0.010\n",
      "media          0.1944      0.021      9.199      0.000       0.153       0.236\n",
      "gender        -0.2905      0.022    -12.925      0.000      -0.335      -0.246\n",
      "race           0.0469      0.025      1.870      0.061      -0.002       0.096\n",
      "followers   1.988e-06   2.17e-08     91.592      0.000    1.95e-06    2.03e-06\n",
      "==============================================================================\n",
      "Omnibus:                     1782.415   Durbin-Watson:                   1.997\n",
      "Prob(Omnibus):                  0.000   Jarque-Bera (JB):             3592.705\n",
      "Skew:                           0.593   Prob(JB):                         0.00\n",
      "Kurtosis:                       4.704   Cond. No.                     1.01e+07\n",
      "==============================================================================\n",
      "\n",
      "Warnings:\n",
      "[1] Standard Errors assume that the covariance matrix of the errors is correctly specified.\n",
      "[2] The condition number is large, 1.01e+07. This might indicate that there are\n",
      "strong multicollinearity or other numerical problems.\n"
     ]
    }
   ],
   "source": [
    "lm = smf.ols(formula = 'ln_retweet ~ fear + outrage + posneg + dw_score + media + gender + race + followers', data = df).fit()\n",
    "print (lm.summary())"
   ]
  },
  {
   "cell_type": "code",
   "execution_count": 3,
   "metadata": {},
   "outputs": [],
   "source": [
    "# Data Preparation\n",
    "X = df[['outrage', 'fear', 'dw_score', 'media', 'gender', 'followers', 'race', 'posneg']]\n",
    "y = df['ln_retweet']\n",
    "\n",
    "X_train, X_test, y_train, y_test = train_test_split(X, y, random_state=42)\n",
    "scaler = StandardScaler().fit(X_train)\n",
    "X_train_scaled = scaler.transform(X_train)\n",
    "X_test_scaled = scaler.transform(X_test)"
   ]
  },
  {
   "cell_type": "markdown",
   "metadata": {},
   "source": [
    "* Model 3-1. Lasso model"
   ]
  },
  {
   "cell_type": "code",
   "execution_count": 4,
   "metadata": {},
   "outputs": [
    {
     "name": "stdout",
     "output_type": "stream",
     "text": [
      "Best Parameters with GridSearchCV: {'lasso__alpha': 0.1}\n",
      "Best Cross-Validation Score with GridSearchCV: 0.2957\n",
      "Test set Score: 0.3160\n"
     ]
    }
   ],
   "source": [
    "lasso_pipe = make_pipeline(Lasso())\n",
    "lasso_param_grid = {'lasso__alpha': np.linspace(0.1, 100.1, 1)}\n",
    "lasso_grid = GridSearchCV(lasso_pipe, lasso_param_grid, cv=5).fit(X_train_scaled, y_train)\n",
    "\n",
    "print(\"Best Parameters with GridSearchCV: {}\".format(lasso_grid.best_params_))\n",
    "print(\"Best Cross-Validation Score with GridSearchCV: {:.4f}\".format(lasso_grid.best_score_))\n",
    "\n",
    "# The following shows the evaluation of this model using the test set\n",
    "print(\"Test set Score: {:.4f}\".format(lasso_grid.score(X_test_scaled, y_test)))"
   ]
  },
  {
   "cell_type": "markdown",
   "metadata": {},
   "source": [
    "* Model 3-2. Ridge model"
   ]
  },
  {
   "cell_type": "code",
   "execution_count": 5,
   "metadata": {},
   "outputs": [
    {
     "name": "stdout",
     "output_type": "stream",
     "text": [
      "Best Parameters with GridSearchCV: {'ridge__alpha': 0.1}\n",
      "Best Cross-Validation Score with GridSearchCV: 0.3137\n",
      "Test set Score: 0.3377\n"
     ]
    }
   ],
   "source": [
    "ridge_pipe = make_pipeline(Ridge())\n",
    "ridge_param_grid = {'ridge__alpha': np.linspace(0.1, 100.1, 1)}\n",
    "ridge_grid = GridSearchCV(ridge_pipe, ridge_param_grid, cv=5).fit(X_train_scaled, y_train)\n",
    "\n",
    "print(\"Best Parameters with GridSearchCV: {}\".format(ridge_grid.best_params_))\n",
    "print(\"Best Cross-Validation Score with GridSearchCV: {:.4f}\".format(ridge_grid.best_score_))\n",
    "\n",
    "# The following shows the evaluation of this model using the test set\n",
    "print(\"Test set Score: {:.4f}\".format(ridge_grid.score(X_test_scaled, y_test)))"
   ]
  },
  {
   "cell_type": "markdown",
   "metadata": {},
   "source": [
    "* Model 3-3: KNN Regression"
   ]
  },
  {
   "cell_type": "code",
   "execution_count": 6,
   "metadata": {},
   "outputs": [
    {
     "name": "stdout",
     "output_type": "stream",
     "text": [
      "Best Parameters with GridSearchCV: {'n_neighbors': 20}\n",
      "Best Cross Validation score with GridSearchCV: 0.4304\n",
      "Test Score: 0.4656\n"
     ]
    }
   ],
   "source": [
    "param_grid = {'n_neighbors': [5, 10, 20, 50, 100]}\n",
    "grid = GridSearchCV(KNeighborsRegressor(), param_grid, cv=5).fit(X_train_scaled, y_train)\n",
    "print(\"Best Parameters with GridSearchCV: {}\".format(grid.best_params_))\n",
    "print(\"Best Cross Validation score with GridSearchCV: {:.4f}\".format(grid.best_score_))\n",
    "\n",
    "# The following shows the evaluation of this model using the test set\n",
    "print(\"Test Score: {:.4f}\".format(grid.score(X_test_scaled, y_test)))"
   ]
  },
  {
   "cell_type": "markdown",
   "metadata": {},
   "source": [
    "* Model 3-4: Support Vector Machine"
   ]
  },
  {
   "cell_type": "code",
   "execution_count": 7,
   "metadata": {},
   "outputs": [
    {
     "name": "stdout",
     "output_type": "stream",
     "text": [
      "Best Parameters with GridSearchCV: {'C': 50, 'gamma': 0.005}\n",
      "Best Cross Validation score with GridSearchCV: 0.4483\n",
      "Test Score: 0.5011\n"
     ]
    }
   ],
   "source": [
    "param_grid = {'C': [1, 5, 10, 50], 'gamma': [0.0001, 0.0005, 0.001, 0.005]}\n",
    "grid = GridSearchCV(SVR(), param_grid, cv=5).fit(X_train_scaled, y_train)\n",
    "print(\"Best Parameters with GridSearchCV: {}\".format(grid.best_params_))\n",
    "print(\"Best Cross Validation score with GridSearchCV: {:.4f}\".format(grid.best_score_))\n",
    "\n",
    "# The following shows the evaluation of this model using the test set\n",
    "print(\"Test Score: {:.4f}\".format(grid.score(X_test_scaled, y_test)))"
   ]
  },
  {
   "cell_type": "markdown",
   "metadata": {},
   "source": [
    "* Model 3-5:Random Forest"
   ]
  },
  {
   "cell_type": "code",
   "execution_count": 8,
   "metadata": {},
   "outputs": [
    {
     "name": "stdout",
     "output_type": "stream",
     "text": [
      "Best Parameters with GridSearchCV: {'max_depth': 10, 'n_estimators': 64}\n",
      "Best Cross Validation Score with GridSearchCV: 0.5493\n",
      "Test Score: 0.5829\n"
     ]
    }
   ],
   "source": [
    "param_grid = {\"max_depth\": [10, 50, 100], \"n_estimators\": [1, 4, 16, 32, 64]}\n",
    "rfr_grid = GridSearchCV(RandomForestRegressor(), param_grid, cv=5).fit(X_train_scaled, y_train)\n",
    "print(\"Best Parameters with GridSearchCV: {}\".format(rfr_grid.best_params_))\n",
    "print(\"Best Cross Validation Score with GridSearchCV: {:.4f}\".format(rfr_grid.best_score_))\n",
    "\n",
    "# The following shows the evaluation of this model using the test set\n",
    "print(\"Test Score: {:.4f}\".format(rfr_grid.score(X_test_scaled, y_test)))"
   ]
  },
  {
   "cell_type": "markdown",
   "metadata": {},
   "source": [
    "### Visualizations\n",
    "* The following two histograms demonstrate why I chose to look at ln_retweet. We can see below that the data distribution is highly skewed in retweet_count in its raw form. So, just as economic researchers often use log transformations for variables such as income, I used log transformed values for the number of retweets to make the data more normally distributed (the histograms below will show this point)."
   ]
  },
  {
   "cell_type": "code",
   "execution_count": 22,
   "metadata": {},
   "outputs": [
    {
     "data": {
      "text/html": [
       "<div>\n",
       "<style scoped>\n",
       "    .dataframe tbody tr th:only-of-type {\n",
       "        vertical-align: middle;\n",
       "    }\n",
       "\n",
       "    .dataframe tbody tr th {\n",
       "        vertical-align: top;\n",
       "    }\n",
       "\n",
       "    .dataframe thead th {\n",
       "        text-align: right;\n",
       "    }\n",
       "</style>\n",
       "<table border=\"1\" class=\"dataframe\">\n",
       "  <thead>\n",
       "    <tr style=\"text-align: right;\">\n",
       "      <th></th>\n",
       "      <th>count</th>\n",
       "      <th>mean</th>\n",
       "      <th>std</th>\n",
       "      <th>min</th>\n",
       "      <th>25%</th>\n",
       "      <th>50%</th>\n",
       "      <th>75%</th>\n",
       "      <th>max</th>\n",
       "    </tr>\n",
       "  </thead>\n",
       "  <tbody>\n",
       "    <tr>\n",
       "      <td>ln_retweet</td>\n",
       "      <td>20000.0</td>\n",
       "      <td>1.473084</td>\n",
       "      <td>1.562466</td>\n",
       "      <td>0.000</td>\n",
       "      <td>0.000</td>\n",
       "      <td>1.098612</td>\n",
       "      <td>2.197225</td>\n",
       "      <td>1.080442e+01</td>\n",
       "    </tr>\n",
       "    <tr>\n",
       "      <td>fear</td>\n",
       "      <td>20000.0</td>\n",
       "      <td>0.040910</td>\n",
       "      <td>0.071026</td>\n",
       "      <td>0.000</td>\n",
       "      <td>0.000</td>\n",
       "      <td>0.000000</td>\n",
       "      <td>0.076923</td>\n",
       "      <td>5.714286e-01</td>\n",
       "    </tr>\n",
       "    <tr>\n",
       "      <td>outrage</td>\n",
       "      <td>20000.0</td>\n",
       "      <td>0.046866</td>\n",
       "      <td>0.089728</td>\n",
       "      <td>0.000</td>\n",
       "      <td>0.000</td>\n",
       "      <td>0.000000</td>\n",
       "      <td>0.076923</td>\n",
       "      <td>1.000000e+00</td>\n",
       "    </tr>\n",
       "    <tr>\n",
       "      <td>posneg</td>\n",
       "      <td>20000.0</td>\n",
       "      <td>0.338382</td>\n",
       "      <td>0.672388</td>\n",
       "      <td>-1.000</td>\n",
       "      <td>0.000</td>\n",
       "      <td>0.333333</td>\n",
       "      <td>1.000000</td>\n",
       "      <td>1.000000e+00</td>\n",
       "    </tr>\n",
       "    <tr>\n",
       "      <td>dw_score</td>\n",
       "      <td>20000.0</td>\n",
       "      <td>0.048023</td>\n",
       "      <td>0.451323</td>\n",
       "      <td>-0.744</td>\n",
       "      <td>-0.384</td>\n",
       "      <td>0.022500</td>\n",
       "      <td>0.453000</td>\n",
       "      <td>9.190000e-01</td>\n",
       "    </tr>\n",
       "    <tr>\n",
       "      <td>media</td>\n",
       "      <td>20000.0</td>\n",
       "      <td>0.256250</td>\n",
       "      <td>0.436572</td>\n",
       "      <td>0.000</td>\n",
       "      <td>0.000</td>\n",
       "      <td>0.000000</td>\n",
       "      <td>1.000000</td>\n",
       "      <td>1.000000e+00</td>\n",
       "    </tr>\n",
       "    <tr>\n",
       "      <td>gender</td>\n",
       "      <td>20000.0</td>\n",
       "      <td>0.751300</td>\n",
       "      <td>0.432270</td>\n",
       "      <td>0.000</td>\n",
       "      <td>1.000</td>\n",
       "      <td>1.000000</td>\n",
       "      <td>1.000000</td>\n",
       "      <td>1.000000e+00</td>\n",
       "    </tr>\n",
       "    <tr>\n",
       "      <td>race</td>\n",
       "      <td>20000.0</td>\n",
       "      <td>0.818850</td>\n",
       "      <td>0.385152</td>\n",
       "      <td>0.000</td>\n",
       "      <td>1.000</td>\n",
       "      <td>1.000000</td>\n",
       "      <td>1.000000</td>\n",
       "      <td>1.000000e+00</td>\n",
       "    </tr>\n",
       "    <tr>\n",
       "      <td>followers</td>\n",
       "      <td>20000.0</td>\n",
       "      <td>149050.799889</td>\n",
       "      <td>435449.924468</td>\n",
       "      <td>629.000</td>\n",
       "      <td>15589.000</td>\n",
       "      <td>24230.000000</td>\n",
       "      <td>47314.000000</td>\n",
       "      <td>2.587562e+06</td>\n",
       "    </tr>\n",
       "  </tbody>\n",
       "</table>\n",
       "</div>"
      ],
      "text/plain": [
       "              count           mean            std      min        25%  \\\n",
       "ln_retweet  20000.0       1.473084       1.562466    0.000      0.000   \n",
       "fear        20000.0       0.040910       0.071026    0.000      0.000   \n",
       "outrage     20000.0       0.046866       0.089728    0.000      0.000   \n",
       "posneg      20000.0       0.338382       0.672388   -1.000      0.000   \n",
       "dw_score    20000.0       0.048023       0.451323   -0.744     -0.384   \n",
       "media       20000.0       0.256250       0.436572    0.000      0.000   \n",
       "gender      20000.0       0.751300       0.432270    0.000      1.000   \n",
       "race        20000.0       0.818850       0.385152    0.000      1.000   \n",
       "followers   20000.0  149050.799889  435449.924468  629.000  15589.000   \n",
       "\n",
       "                     50%           75%           max  \n",
       "ln_retweet      1.098612      2.197225  1.080442e+01  \n",
       "fear            0.000000      0.076923  5.714286e-01  \n",
       "outrage         0.000000      0.076923  1.000000e+00  \n",
       "posneg          0.333333      1.000000  1.000000e+00  \n",
       "dw_score        0.022500      0.453000  9.190000e-01  \n",
       "media           0.000000      1.000000  1.000000e+00  \n",
       "gender          1.000000      1.000000  1.000000e+00  \n",
       "race            1.000000      1.000000  1.000000e+00  \n",
       "followers   24230.000000  47314.000000  2.587562e+06  "
      ]
     },
     "execution_count": 22,
     "metadata": {},
     "output_type": "execute_result"
    }
   ],
   "source": [
    "df1 = df[['ln_retweet', 'fear', 'outrage', 'posneg', 'dw_score', 'media', 'gender', 'race', 'followers']].copy()\n",
    "des = df1.describe()\n",
    "des = des.transpose()\n",
    "des"
   ]
  },
  {
   "cell_type": "code",
   "execution_count": 20,
   "metadata": {},
   "outputs": [
    {
     "data": {
      "text/html": [
       "<div>\n",
       "<style scoped>\n",
       "    .dataframe tbody tr th:only-of-type {\n",
       "        vertical-align: middle;\n",
       "    }\n",
       "\n",
       "    .dataframe tbody tr th {\n",
       "        vertical-align: top;\n",
       "    }\n",
       "\n",
       "    .dataframe thead th {\n",
       "        text-align: right;\n",
       "    }\n",
       "</style>\n",
       "<table border=\"1\" class=\"dataframe\">\n",
       "  <thead>\n",
       "    <tr style=\"text-align: right;\">\n",
       "      <th></th>\n",
       "      <th>count</th>\n",
       "      <th>mean</th>\n",
       "      <th>std</th>\n",
       "      <th>min</th>\n",
       "      <th>25%</th>\n",
       "      <th>50%</th>\n",
       "      <th>75%</th>\n",
       "      <th>max</th>\n",
       "    </tr>\n",
       "  </thead>\n",
       "  <tbody>\n",
       "    <tr>\n",
       "      <td>retweet_count</td>\n",
       "      <td>20000.0</td>\n",
       "      <td>53.10765</td>\n",
       "      <td>514.937927</td>\n",
       "      <td>0.0</td>\n",
       "      <td>1.0</td>\n",
       "      <td>3.0</td>\n",
       "      <td>9.0</td>\n",
       "      <td>49238.0</td>\n",
       "    </tr>\n",
       "  </tbody>\n",
       "</table>\n",
       "</div>"
      ],
      "text/plain": [
       "                 count      mean         std  min  25%  50%  75%      max\n",
       "retweet_count  20000.0  53.10765  514.937927  0.0  1.0  3.0  9.0  49238.0"
      ]
     },
     "execution_count": 20,
     "metadata": {},
     "output_type": "execute_result"
    }
   ],
   "source": [
    "df1 = df[['retweet_count']].copy()\n",
    "des = df1.describe()\n",
    "des = des.transpose()\n",
    "des"
   ]
  },
  {
   "cell_type": "code",
   "execution_count": 13,
   "metadata": {},
   "outputs": [
    {
     "data": {
      "text/plain": [
       "array([[<matplotlib.axes._subplots.AxesSubplot object at 0x00000216C0FDB8C8>]],\n",
       "      dtype=object)"
      ]
     },
     "execution_count": 13,
     "metadata": {},
     "output_type": "execute_result"
    },
    {
     "data": {
      "image/png": "[encoded data removed]",
      "text/plain": [
       "<Figure size 432x288 with 1 Axes>"
      ]
     },
     "metadata": {
      "needs_background": "light"
     },
     "output_type": "display_data"
    }
   ],
   "source": [
    "df.hist(column='retweet_count')"
   ]
  },
  {
   "cell_type": "code",
   "execution_count": 14,
   "metadata": {},
   "outputs": [
    {
     "data": {
      "text/plain": [
       "array([[<matplotlib.axes._subplots.AxesSubplot object at 0x00000216C8013648>]],\n",
       "      dtype=object)"
      ]
     },
     "execution_count": 14,
     "metadata": {},
     "output_type": "execute_result"
    },
    {
     "data": {
      "image/png": "[encoded data removed]",
      "text/plain": [
       "<Figure size 432x288 with 1 Axes>"
      ]
     },
     "metadata": {
      "needs_background": "light"
     },
     "output_type": "display_data"
    }
   ],
   "source": [
    "# Now, the data looks more normally distributed.\n",
    "df.hist(column='ln_retweet')"
   ]
  },
  {
   "cell_type": "code",
   "execution_count": 88,
   "metadata": {},
   "outputs": [
    {
     "data": {
      "image/png": "[encoded data removed]",
      "text/plain": [
       "<Figure size 432x288 with 1 Axes>"
      ]
     },
     "metadata": {
      "needs_background": "light"
     },
     "output_type": "display_data"
    }
   ],
   "source": [
    "import seaborn as sns\n",
    "x = sns.regplot(x=\"outrage\", y=\"retweet_count\", data=df, color='b')"
   ]
  },
  {
   "cell_type": "code",
   "execution_count": 89,
   "metadata": {},
   "outputs": [
    {
     "data": {
      "image/png": "[encoded data removed]",
      "text/plain": [
       "<Figure size 432x288 with 1 Axes>"
      ]
     },
     "metadata": {
      "needs_background": "light"
     },
     "output_type": "display_data"
    }
   ],
   "source": [
    "x = sns.regplot(x=\"fear\", y=\"retweet_count\", data=df, color='b')"
   ]
  },
  {
   "cell_type": "code",
   "execution_count": 9,
   "metadata": {},
   "outputs": [
    {
     "data": {
      "image/png": "[encoded data removed]",
      "text/plain": [
       "<Figure size 432x288 with 1 Axes>"
      ]
     },
     "metadata": {
      "needs_background": "light"
     },
     "output_type": "display_data"
    }
   ],
   "source": [
    "x = sns.regplot(x=\"posneg\", y=\"retweet_count\", data=df, color='b')"
   ]
  },
  {
   "cell_type": "markdown",
   "metadata": {},
   "source": [
    "* Visualization : the following wordcloud shows a list of words that show up most often in tweets. Since my sentiment analysis counts the number of words that are in my dictionary, it would be interesting to see the wordcloud."
   ]
  },
  {
   "cell_type": "code",
   "execution_count": 19,
   "metadata": {},
   "outputs": [
    {
     "data": {
      "image/png": "[encoded data removed]",
      "text/plain": [
       "<Figure size 1080x1080 with 1 Axes>"
      ]
     },
     "metadata": {
      "needs_background": "light"
     },
     "output_type": "display_data"
    }
   ],
   "source": [
    "from wordcloud import WordCloud\n",
    "from wordcloud import WordCloud, STOPWORDS\n",
    "\n",
    "stopwords = set(STOPWORDS)\n",
    "stopwords.update(['potus', 'jacksonleetx', 'prd', 'akas', 'sorors', 'actionforpr', 'ronwyden', 'orbizsummit'])\n",
    "\n",
    "plt.figure(figsize = (15,15))\n",
    "\n",
    "# stopwords = set(STOPWORDS)\n",
    "wordcloud = WordCloud(background_color = 'black',\n",
    "                      max_words = 1000,\n",
    "                      stopwords = stopwords,\n",
    "                      max_font_size = 120,\n",
    "                      random_state = 42).generate(str(df['clean_text']))\n",
    "\n",
    "plt.imshow(wordcloud)\n",
    "plt.title('Word Cloud', fontsize = 20)\n",
    "plt.axis('off')\n",
    "plt.show()"
   ]
  }
 ],
 "metadata": {
  "kernelspec": {
   "display_name": "Python 3",
   "language": "python",
   "name": "python3"
  },
  "language_info": {
   "codemirror_mode": {
    "name": "ipython",
    "version": 3
   },
   "file_extension": ".py",
   "mimetype": "text/x-python",
   "name": "python",
   "nbconvert_exporter": "python",
   "pygments_lexer": "ipython3",
   "version": "3.7.4"
  }
 },
 "nbformat": 4,
 "nbformat_minor": 2
}
